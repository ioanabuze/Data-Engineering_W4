{
  "nbformat": 4,
  "nbformat_minor": 0,
  "metadata": {
    "colab": {
      "name": "Amazon Review Weak Labelling Function.ipynb",
      "provenance": [],
      "collapsed_sections": [],
      "include_colab_link": true
    },
    "kernelspec": {
      "name": "python3",
      "display_name": "Python 3"
    }
  },
  "cells": [
    {
      "cell_type": "markdown",
      "metadata": {
        "id": "view-in-github",
        "colab_type": "text"
      },
      "source": [
        "<a href=\"https://colab.research.google.com/github/ioanabuze/Data-Engineering_W4/blob/master/Amazon_Review_Weak_Labelling_Function.ipynb\" target=\"_parent\"><img src=\"https://colab.research.google.com/assets/colab-badge.svg\" alt=\"Open In Colab\"/></a>"
      ]
    },
    {
      "cell_type": "code",
      "metadata": {
        "id": "Op4NrVQn2vk6",
        "colab_type": "code",
        "colab": {}
      },
      "source": [
        "# Code here to push the Notebook to Git"
      ],
      "execution_count": 0,
      "outputs": []
    },
    {
      "cell_type": "code",
      "metadata": {
        "colab_type": "code",
        "id": "1jDKaB7F3yJ0",
        "outputId": "6e868628-f890-4e1f-fbfb-9098c9f5bb90",
        "colab": {
          "base_uri": "https://localhost:8080/",
          "height": 306
        }
      },
      "source": [
        "# Import Libraries, OS and Setup \n",
        "\n",
        "%matplotlib inline\n",
        "\n",
        "from sklearn import datasets\n",
        "import numpy as np\n",
        "import pandas as pd\n",
        "\n",
        "!pip install snorkel"
      ],
      "execution_count": 0,
      "outputs": [
        {
          "output_type": "stream",
          "text": [
            "Requirement already satisfied: snorkel in /usr/local/lib/python3.6/dist-packages (0.9.3)\n",
            "Requirement already satisfied: scipy<2.0.0,>=1.2.0 in /usr/local/lib/python3.6/dist-packages (from snorkel) (1.4.1)\n",
            "Requirement already satisfied: torch<1.2.0,>=1.1.0 in /usr/local/lib/python3.6/dist-packages (from snorkel) (1.1.0)\n",
            "Requirement already satisfied: tensorboardX<2.0,>=1.6 in /usr/local/lib/python3.6/dist-packages (from snorkel) (1.9)\n",
            "Requirement already satisfied: pandas<0.26.0,>=0.25.0 in /usr/local/lib/python3.6/dist-packages (from snorkel) (0.25.3)\n",
            "Requirement already satisfied: munkres==1.1.2 in /usr/local/lib/python3.6/dist-packages (from snorkel) (1.1.2)\n",
            "Requirement already satisfied: numpy<2.0.0,>=1.16.0 in /usr/local/lib/python3.6/dist-packages (from snorkel) (1.17.5)\n",
            "Requirement already satisfied: scikit-learn<0.22.0,>=0.20.2 in /usr/local/lib/python3.6/dist-packages (from snorkel) (0.21.3)\n",
            "Requirement already satisfied: tqdm<5.0.0,>=4.33.0 in /usr/local/lib/python3.6/dist-packages (from snorkel) (4.43.0)\n",
            "Requirement already satisfied: networkx<2.4,>=2.2 in /usr/local/lib/python3.6/dist-packages (from snorkel) (2.3)\n",
            "Requirement already satisfied: protobuf>=3.8.0 in /usr/local/lib/python3.6/dist-packages (from tensorboardX<2.0,>=1.6->snorkel) (3.10.0)\n",
            "Requirement already satisfied: six in /usr/local/lib/python3.6/dist-packages (from tensorboardX<2.0,>=1.6->snorkel) (1.12.0)\n",
            "Requirement already satisfied: python-dateutil>=2.6.1 in /usr/local/lib/python3.6/dist-packages (from pandas<0.26.0,>=0.25.0->snorkel) (2.6.1)\n",
            "Requirement already satisfied: pytz>=2017.2 in /usr/local/lib/python3.6/dist-packages (from pandas<0.26.0,>=0.25.0->snorkel) (2018.9)\n",
            "Requirement already satisfied: joblib>=0.11 in /usr/local/lib/python3.6/dist-packages (from scikit-learn<0.22.0,>=0.20.2->snorkel) (0.14.1)\n",
            "Requirement already satisfied: decorator>=4.3.0 in /usr/local/lib/python3.6/dist-packages (from networkx<2.4,>=2.2->snorkel) (4.4.1)\n",
            "Requirement already satisfied: setuptools in /usr/local/lib/python3.6/dist-packages (from protobuf>=3.8.0->tensorboardX<2.0,>=1.6->snorkel) (45.1.0)\n"
          ],
          "name": "stdout"
        }
      ]
    },
    {
      "cell_type": "code",
      "metadata": {
        "id": "m3eDugwl6Ae0",
        "colab_type": "code",
        "colab": {}
      },
      "source": [
        "from sklearn.model_selection import train_test_split\n",
        "from sklearn import metrics\n",
        "from snorkel.labeling import labeling_function\n",
        "from snorkel.labeling import PandasLFApplier\n",
        "from snorkel.labeling import LFAnalysis\n",
        "\n",
        "\n",
        "from wordcloud import WordCloud\n",
        "import matplotlib.pyplot as plt \n",
        "import pandas as pd\n",
        "import numpy as np"
      ],
      "execution_count": 0,
      "outputs": []
    },
    {
      "cell_type": "code",
      "metadata": {
        "id": "fhOIES1z69GO",
        "colab_type": "code",
        "outputId": "4a6f755f-909c-4da1-de3c-b9d048788e3a",
        "colab": {
          "base_uri": "https://localhost:8080/",
          "height": 71
        }
      },
      "source": [
        "# pyspark setup\n",
        "\n",
        "!pip install pyspark\n",
        "# Load the Drive helper and mount\n",
        "from google.colab import drive\n",
        "\n",
        "# This will prompt for authorization.\n",
        "drive.mount(\"/content/drive\")"
      ],
      "execution_count": 0,
      "outputs": [
        {
          "output_type": "stream",
          "text": [
            "Requirement already satisfied: pyspark in /usr/local/lib/python3.6/dist-packages (2.4.5)\n",
            "Requirement already satisfied: py4j==0.10.7 in /usr/local/lib/python3.6/dist-packages (from pyspark) (0.10.7)\n",
            "Drive already mounted at /content/drive; to attempt to forcibly remount, call drive.mount(\"/content/drive\", force_remount=True).\n"
          ],
          "name": "stdout"
        }
      ]
    },
    {
      "cell_type": "code",
      "metadata": {
        "id": "zHPuP-y8IAT1",
        "colab_type": "code",
        "outputId": "f95acf25-e342-486b-e013-b38b6cd9f04b",
        "colab": {
          "base_uri": "https://localhost:8080/",
          "height": 53
        }
      },
      "source": [
        "cd \"/content/drive/My Drive/Colab Notebooks/Data Engineering Group Project\""
      ],
      "execution_count": 0,
      "outputs": [
        {
          "output_type": "stream",
          "text": [
            "[Errno 2] No such file or directory: '/content/drive/My Drive/Colab Notebooks/Data Engineering Group Project'\n",
            "/content\n"
          ],
          "name": "stdout"
        }
      ]
    },
    {
      "cell_type": "code",
      "metadata": {
        "id": "Z4WyXelAFVKr",
        "colab_type": "code",
        "outputId": "87a8eb55-4d15-442a-db85-d03c04ce2069",
        "colab": {
          "base_uri": "https://localhost:8080/",
          "height": 263
        }
      },
      "source": [
        "import os \n",
        "!apt-get install openjdk-8-jdk-headless -qq > /dev/null\n",
        "\n",
        "COLAB_NOTEBOOKS_DATA_PATH=\"/content/drive/My Drive/Colab Notebooks/Data Engineering Group Project\"\n",
        "SPARK_ARCHIVE='spark-2.4.5-bin-hadoop2.7.tgz'\n",
        "if SPARK_ARCHIVE not in os.listdir(COLAB_NOTEBOOKS_DATA_PATH):\n",
        "  !wget -q https://archive.apache.org/dist/spark/spark-2.4.5/spark-2.4.5-bin-hadoop2.7.tgz\n",
        "\n",
        "SPARK_ARTIFACTS='spark-2.4.5-bin-hadoop2.7'\n",
        "if SPARK_ARTIFACTS not in os.listdir(COLAB_NOTEBOOKS_DATA_PATH):\n",
        "  !tar xf spark-2.4.5-bin-hadoop2.7.tgz\n",
        "\n",
        "!pip install -q findspark"
      ],
      "execution_count": 0,
      "outputs": [
        {
          "output_type": "error",
          "ename": "FileNotFoundError",
          "evalue": "ignored",
          "traceback": [
            "\u001b[0;31m---------------------------------------------------------------------------\u001b[0m",
            "\u001b[0;31mFileNotFoundError\u001b[0m                         Traceback (most recent call last)",
            "\u001b[0;32m<ipython-input-13-e71e56cceb51>\u001b[0m in \u001b[0;36m<module>\u001b[0;34m()\u001b[0m\n\u001b[1;32m      4\u001b[0m \u001b[0mCOLAB_NOTEBOOKS_DATA_PATH\u001b[0m\u001b[0;34m=\u001b[0m\u001b[0;34m\"/content/drive/My Drive/Colab Notebooks/Data Engineering Group Project\"\u001b[0m\u001b[0;34m\u001b[0m\u001b[0;34m\u001b[0m\u001b[0m\n\u001b[1;32m      5\u001b[0m \u001b[0mSPARK_ARCHIVE\u001b[0m\u001b[0;34m=\u001b[0m\u001b[0;34m'spark-2.4.5-bin-hadoop2.7.tgz'\u001b[0m\u001b[0;34m\u001b[0m\u001b[0;34m\u001b[0m\u001b[0m\n\u001b[0;32m----> 6\u001b[0;31m \u001b[0;32mif\u001b[0m \u001b[0mSPARK_ARCHIVE\u001b[0m \u001b[0;32mnot\u001b[0m \u001b[0;32min\u001b[0m \u001b[0mos\u001b[0m\u001b[0;34m.\u001b[0m\u001b[0mlistdir\u001b[0m\u001b[0;34m(\u001b[0m\u001b[0mCOLAB_NOTEBOOKS_DATA_PATH\u001b[0m\u001b[0;34m)\u001b[0m\u001b[0;34m:\u001b[0m\u001b[0;34m\u001b[0m\u001b[0;34m\u001b[0m\u001b[0m\n\u001b[0m\u001b[1;32m      7\u001b[0m   \u001b[0mget_ipython\u001b[0m\u001b[0;34m(\u001b[0m\u001b[0;34m)\u001b[0m\u001b[0;34m.\u001b[0m\u001b[0msystem\u001b[0m\u001b[0;34m(\u001b[0m\u001b[0;34m'wget -q https://archive.apache.org/dist/spark/spark-2.4.5/spark-2.4.5-bin-hadoop2.7.tgz'\u001b[0m\u001b[0;34m)\u001b[0m\u001b[0;34m\u001b[0m\u001b[0;34m\u001b[0m\u001b[0m\n\u001b[1;32m      8\u001b[0m \u001b[0;34m\u001b[0m\u001b[0m\n",
            "\u001b[0;31mFileNotFoundError\u001b[0m: [Errno 2] No such file or directory: '/content/drive/My Drive/Colab Notebooks/Data Engineering Group Project'"
          ]
        }
      ]
    },
    {
      "cell_type": "code",
      "metadata": {
        "id": "PtuZl1uJFXv_",
        "colab_type": "code",
        "colab": {}
      },
      "source": [
        "os.environ[\"JAVA_HOME\"] = \"/usr/lib/jvm/java-8-openjdk-amd64\"\n",
        "os.environ[\"SPARK_HOME\"] = \"/content/drive/My Drive/Colab Notebooks/Data Engineering Group Project/spark-2.4.5-bin-hadoop2.7\""
      ],
      "execution_count": 0,
      "outputs": []
    },
    {
      "cell_type": "code",
      "metadata": {
        "id": "xK542RQE7nIc",
        "colab_type": "code",
        "colab": {}
      },
      "source": [
        "!apt-get install openjdk-8-jdk-headless -qq > /dev/null\n",
        "!wget -q https://archive.apache.org/dist/spark/spark-2.4.5/spark-2.4.5-bin-hadoop2.7.tgz\n",
        "!tar xf spark-2.4.5-bin-hadoop2.7.tgz\n",
        "!pip install -q findspark\n",
        "\n",
        "import findspark\n",
        "findspark.init()\n",
        "\n",
        "import pyspark\n",
        "from pyspark.sql import SQLContext"
      ],
      "execution_count": 0,
      "outputs": []
    },
    {
      "cell_type": "code",
      "metadata": {
        "id": "Gw-_1B8tJAU-",
        "colab_type": "code",
        "colab": {}
      },
      "source": [
        "sc = pyspark.SparkContext.getOrCreate()\n",
        "sqlContext = SQLContext(sc)"
      ],
      "execution_count": 0,
      "outputs": []
    },
    {
      "cell_type": "code",
      "metadata": {
        "id": "K9j0D3PY35dj",
        "colab_type": "code",
        "colab": {}
      },
      "source": [
        "# Import the Data\n",
        "\n",
        "amazon_reviews_dataset=sqlContext.read.csv(\"/content/drive/My Drive/Colab Notebooks/Data Engineering Group Project/Datafiniti_Amazon_Consumer_Reviews_of_Amazon_Products.csv\",header=True)"
      ],
      "execution_count": 0,
      "outputs": []
    },
    {
      "cell_type": "code",
      "metadata": {
        "id": "V019TE5v49Dh",
        "colab_type": "code",
        "colab": {}
      },
      "source": [
        "# Train/Test Split (25%?)\n",
        "df_train, df_test = amazon_reviews_dataset()\n",
        "\n",
        "# We pull out the label vectors for ease of use later\n",
        "Y_test = df_test.label.values"
      ],
      "execution_count": 0,
      "outputs": []
    },
    {
      "cell_type": "code",
      "metadata": {
        "id": "UNwHebAiJkiu",
        "colab_type": "code",
        "outputId": "b3674f50-d47d-44dc-9d8f-8f9a1010b578",
        "colab": {
          "base_uri": "https://localhost:8080/",
          "height": 122
        }
      },
      "source": [
        "amazon_reviews_dataset.head(5)"
      ],
      "execution_count": 0,
      "outputs": [
        {
          "output_type": "execute_result",
          "data": {
            "text/plain": [
              "[Row(id='AVqVGZNvQMlgsOJE6eUY', dateAdded='2017-03-03T16:56:05Z', dateUpdated='2018-10-25T16:36:31Z', name='\"Amazon Kindle E-Reader 6\"\" Wifi (8th Generation', asins=' 2016)\"', brand='B00ZV9PXP2', categories='Amazon', primaryCategories='Computers,Electronics Features,Tablets,Electronics,iPad & Tablets,Kindle E-readers,iPad Accessories,Used:Tablets,E-Readers,E-Readers & Accessories,Computers/Tablets & Networking,Used:Computers Accessories,iPads Tablets,All Tablets,Tablets & E-readers,Computers & Tablets,Amazon,Tablets & eBook Readers', imageURLs='Electronics', keys='https://pisces.bbystatic.com/image2/BestBuy_US/images/products/5442/5442403_sd.jpg,https://c1.neweggimages.com/NeweggImage/ProductImage/A3FA_1_201801081360871160.jpg,https://i.ebayimg.com/thumbs/images/g/N4IAAOSwoA9Zgkso/s-l96.jpg,http://i.ebayimg.com/thumbs/images/g/dpkAAOSwfpVZFKHy/s-l200.jpg,http://i.ebayimg.com/thumbs/images/g/PJgAAOSwiDFYPE8h/s-l200.jpg,http://i.ebayimg.com/thumbs/images/g/m38AAOSwblZZEhFQ/s-l200.jpg,https://c1.neweggimages.com/NeweggImage/ProductImage/A3FA_1_20180108629568651.jpg,http://i.ebayimg.com/thumbs/images/g/UxgAAOSw9GhYiMDI/s-l200.jpg,http://i.ebayimg.com/thumbs/images/g/QtgAAOSwdmRZcgv2/s-l200.jpg,http://i.ebayimg.com/images/g/naUAAOSw4CFY1Td7/s-l300.jpg,https://i5.walmartimages.com/asr/419af8c3-a9df-4d8b-abe4-233348661e30_1.c07bf5932d2786e31be6a32329d6323b.jpeg%25252525253FodnHeight%25252525253D450%252525252526odnWidth%25252525253D450%252525252526odnBg%25252525253DFFFFFF,http://i.ebayimg.com/thumbs/images/g/vykAAOSwmtJXYxpm/s-l200.jpg,http://i.ebayimg.com/thumbs/images/g/b80AAOSw-0xYNxg~/s-l200.jpg,https://target.scene7.com/is/image/Target/GUEST_302b59ff-dc90-444b-aec7-cfc65dd08989,https://static.bhphoto.com/images/itemImgPlaceholder.jpg,http://i.ebayimg.com/thumbs/images/i/263085587688-0-1/s-l200.jpg,https://target.scene7.com/is/image/Target/GUEST_ccc6016d-0b26-4b28-9832-27a61855a4b4,https://www.barcodable.com/images/barcode/0848719083774.png,http://i.ebayimg.com/thumbs/images/g/aS4AAOSwYlRZHKCj/s-l200.jpg,https://pisces.bbystatic.com/image2/BestBuy_US/images/products/5442/5442403_rd.jpg,https://i.ebayimg.com/thumbs/images/g/XGMAAOSwqz9Z3EKW/s-l96.jpg,http://i.ebayimg.com/thumbs/images/g/5qkAAOSw5cNYblJ0/s-l200.jpg,https://pisces.bbystatic.com/image2/BestBuy_US/images/products/5442/5442403ld.jpg,https://i5.walmartimages.com/asr/deaab745-3d31-4bab-a7ae-a350220642ef_1.f4e5e498dd67abc007e96b10b526ee2c.jpeg%25252525253FodnHeight%25252525253D450%252525252526odnWidth%25252525253D450%252525252526odnBg%25252525253DFFFFFF,http://i.ebayimg.com/thumbs/images/g/rWAAAOSwEzxYRbeX/s-l200.jpg,http://i.ebayimg.com/thumbs/images/g/jC8AAOSwjXRXb1Fd/s-l200.jpg,http://i.ebayimg.com/thumbs/images/g/680AAOSwOddYxwDE/s-l200.jpg,https://i.ebayimg.com/thumbs/images/g/w5QAAOSwdGFYtOqQ/s-l96.jpg,https://c1.neweggimages.com/NeweggImage/ProductImage/A3FA_1_20171002572786117.jpg,https://i5.walmartimages.com/asr/22eb9833-6712-4a63-a0fd-eb6b0f190cf9_1.240dfca5692826cd5320da084816ed6c.jpeg%25252525253FodnHeight%25252525253D450%252525252526odnWidth%25252525253D450%252525252526odnBg%25252525253DFFFFFF,https://i.ebayimg.com/thumbs/images/g/3xUAAOSwbihZzYuw/s-l96.jpg,http://i.ebayimg.com/thumbs/images/g/GwcAAOSwaB5XwIFa/s-l200.jpg,http://i.ebayimg.com/thumbs/images/g/9xEAAOSwEHpZNH8N/s-l200.jpg,http://i.ebayimg.com/thumbs/images/g/TU0AAOSw5h5ZcLrr/s-l200.jpg,http://i.ebayimg.com/thumbs/images/g/d~EAAOSw4shX7Q8h/s-l200.jpg,http://pisces.bbystatic.com/image2/BestBuy_US/images/products/5442/5442403_sa.jpg,http://i.ebayimg.com/thumbs/images/g/1WMAAOSwealY46XU/s-l200.jpg,http://i.ebayimg.com/thumbs/images/g/hgAAAOSwYmZXDmni/s-l200.jpg,http://i.ebayimg.com/thumbs/images/g/~IQAAOSw8d5ZXPG3/s-l200.jpg,http://i.ebayimg.com/thumbs/images/g/oe8AAOSwjqVZNtPW/s-l200.jpg,http://i.ebayimg.com/thumbs/images/g/x2sAAOSwGIRXYwwD/s-l200.jpg,http://i.ebayimg.com/thumbs/images/g/irIAAOSwc-tY4pWd/s-l200.jpg,https://i5.walmartimages.com/asr/61caa3ad-7f8f-4995-976f-28fc4891d9b3_1.0c01311e3eb1de12b06a1c8e81f7e826.jpeg%25252525253FodnHeight%25252525253D450%252525252526odnWidth%25252525253D450%252525252526odnBg%25252525253DFFFFFF,https://i.ebayimg.com/images/g/XegAAOSwdPBZxE-P/s-l300.jpg,http://i.ebayimg.com/thumbs/images/g/1zUAAOSwiYFXDmhl/s-l200.jpg,https://i.ebayimg.com/images/g/4XUAAOSwzVxZb9k6/s-l300.jpg,https://i5.walmartimages.com/asr/7b8c6811-3157-42ad-bc93-e42c8b291a5c_1.55bde63a786be1cefa9af65c94a9cbd0.jpeg%25252525253FodnHeight%25252525253D450%252525252526odnWidth%25252525253D450%252525252526odnBg%25252525253DFFFFFF,https://i5.walmartimages.com/asr/65f9fb31-8338-40f7-acdd-894b5aa06be7_1.728b47c501e92a07eab8038ca7069204.jpeg%25252525253FodnHeight%25252525253D450%252525252526odnWidth%25252525253D450%252525252526odnBg%25252525253DFFFFFF,https://i5.walmartimages.com/asr/938638c0-dc7f-4b67-b256-f231047aca9d_1.73592e523332cdaba5cb0f6f1dcee325.jpeg%25252525253FodnHeight%25252525253D450%252525252526odnWidth%25252525253D450%252525252526odnBg%25252525253DFFFFFF,https://i.ebayimg.com/thumbs/images/g/aS4AAOSwYlRZHKCj/s-l96.jpg,https://static.bhphoto.com/images/images500x500/kindle_b00zv9pxp2_kindle_6_ereader_special_1468510257000_1264068.jpg,https://images-na.ssl-images-amazon.com/images/I/51hrdzXLUHL.jpg,https://static.bhphoto.com/images/images500x500/kindle_b00zv9pxp2_6_ereader_special_offers_1468510257000_1264068.jpg,http://i.ebayimg.com/images/g/9xEAAOSwEHpZNH8N/s-l300.jpg,http://i.ebayimg.com/thumbs/images/g/ZJYAAOSwDKtY1CEd/s-l200.jpg,https://pisces.bbystatic.com/image2/BestBuy_US/images/products/5442/5442403_bd.jpg,https://www.upccodesearch.com/images/barcode/0848719083774.png,http://i.ebayimg.com/images/g/XegAAOSwdPBZxE-P/s-l64.jpg,http://i.ebayimg.com/images/g/p2wAAOSwe0NZ2l0G/s-l64.jpg,http://pisces.bbystatic.com/image2/BestBuy_US/images/products/5442/5442403_sd.jpg', manufacturer='allnewkindleereaderblack6glarefreetouchscreendisplaywifiincludesspecialoffers/b00zv9pxp2,allnewkindleereaderblack6glarefreetouchscreendisplaywifiincludesspecialoffers/9siafvd7fk6707,0848719083774,848719083774,allnewkindleereaderblack6glarefreetouchscreendisplaywifiincludesspecialoffers/322538285013,allnewkindleereaderblack6glarefreetouchscreendisplaywifiincludesspecialoffers/5442403,allnewkindleereaderblack6glarefreetouchscreendisplaywifiincludesspecialoffers/kier2016bk,allnewkindleereaderblack6glarefreetouchscreendisplaywifiincludesspecialoffers/162691587356,allnewkindleereaderblack6glarefreetouchscreendisplaywifiincludesspecialoffers/391843532825,allnewkindleereaderblack6glarefreetouchscreendisplaywifiincludesspecialoffers/252974470193,amazon/b00zv9pxp2,amazonkindleblack/5435001,amazonkindleblack/5442403,allnewkindleereaderblack6glarefreetouchscreendisplaywifiincludesspecialoffers/1631053', manufacturerNumber='Amazon', reviews.date='B00ZV9PXP2', reviews.dateAdded='2017-09-03T00:00:00.000Z', reviews.dateSeen=None, reviews.doRecommend='2018-05-27T00:00:00Z,2017-09-18T00:00:00Z,2017-09-06T00:00:00Z,2017-09-12T00:00:00Z', reviews.id='FALSE', reviews.numHelpful=None, reviews.rating='0', reviews.sourceURLs='3', reviews.text='http://reviews.bestbuy.com/3545/5442403/reviews.htm%25252525253Fformat%25252525253Dembedded,https://reviews.bestbuy.com/3545/5442403/reviews.htm%2525252525253Fformat%2525252525253Dembedded%25252525252526page%2525252525253D20,https://reviews.bestbuy.com/3545/5442403/reviews.htm%25252525253Fformat%25252525253Dembedded%252525252526page%25252525253D20', reviews.title='I thought it would be as big as small paper but turn out to be just like my palm. I think it is too small to read on it... not very comfortable as regular Kindle. Would definitely recommend a paperwhite instead.', reviews.username='Too small', sourceURLs='llyyue'),\n",
              " Row(id='AVqVGZNvQMlgsOJE6eUY', dateAdded='2017-03-03T16:56:05Z', dateUpdated='2018-10-25T16:36:31Z', name='\"Amazon Kindle E-Reader 6\"\" Wifi (8th Generation', asins=' 2016)\"', brand='B00ZV9PXP2', categories='Amazon', primaryCategories='Computers,Electronics Features,Tablets,Electronics,iPad & Tablets,Kindle E-readers,iPad Accessories,Used:Tablets,E-Readers,E-Readers & Accessories,Computers/Tablets & Networking,Used:Computers Accessories,iPads Tablets,All Tablets,Tablets & E-readers,Computers & Tablets,Amazon,Tablets & eBook Readers', imageURLs='Electronics', keys='https://pisces.bbystatic.com/image2/BestBuy_US/images/products/5442/5442403_sd.jpg,https://c1.neweggimages.com/NeweggImage/ProductImage/A3FA_1_201801081360871160.jpg,https://i.ebayimg.com/thumbs/images/g/N4IAAOSwoA9Zgkso/s-l96.jpg,http://i.ebayimg.com/thumbs/images/g/dpkAAOSwfpVZFKHy/s-l200.jpg,http://i.ebayimg.com/thumbs/images/g/PJgAAOSwiDFYPE8h/s-l200.jpg,http://i.ebayimg.com/thumbs/images/g/m38AAOSwblZZEhFQ/s-l200.jpg,https://c1.neweggimages.com/NeweggImage/ProductImage/A3FA_1_20180108629568651.jpg,http://i.ebayimg.com/thumbs/images/g/UxgAAOSw9GhYiMDI/s-l200.jpg,http://i.ebayimg.com/thumbs/images/g/QtgAAOSwdmRZcgv2/s-l200.jpg,http://i.ebayimg.com/images/g/naUAAOSw4CFY1Td7/s-l300.jpg,https://i5.walmartimages.com/asr/419af8c3-a9df-4d8b-abe4-233348661e30_1.c07bf5932d2786e31be6a32329d6323b.jpeg%25252525253FodnHeight%25252525253D450%252525252526odnWidth%25252525253D450%252525252526odnBg%25252525253DFFFFFF,http://i.ebayimg.com/thumbs/images/g/vykAAOSwmtJXYxpm/s-l200.jpg,http://i.ebayimg.com/thumbs/images/g/b80AAOSw-0xYNxg~/s-l200.jpg,https://target.scene7.com/is/image/Target/GUEST_302b59ff-dc90-444b-aec7-cfc65dd08989,https://static.bhphoto.com/images/itemImgPlaceholder.jpg,http://i.ebayimg.com/thumbs/images/i/263085587688-0-1/s-l200.jpg,https://target.scene7.com/is/image/Target/GUEST_ccc6016d-0b26-4b28-9832-27a61855a4b4,https://www.barcodable.com/images/barcode/0848719083774.png,http://i.ebayimg.com/thumbs/images/g/aS4AAOSwYlRZHKCj/s-l200.jpg,https://pisces.bbystatic.com/image2/BestBuy_US/images/products/5442/5442403_rd.jpg,https://i.ebayimg.com/thumbs/images/g/XGMAAOSwqz9Z3EKW/s-l96.jpg,http://i.ebayimg.com/thumbs/images/g/5qkAAOSw5cNYblJ0/s-l200.jpg,https://pisces.bbystatic.com/image2/BestBuy_US/images/products/5442/5442403ld.jpg,https://i5.walmartimages.com/asr/deaab745-3d31-4bab-a7ae-a350220642ef_1.f4e5e498dd67abc007e96b10b526ee2c.jpeg%25252525253FodnHeight%25252525253D450%252525252526odnWidth%25252525253D450%252525252526odnBg%25252525253DFFFFFF,http://i.ebayimg.com/thumbs/images/g/rWAAAOSwEzxYRbeX/s-l200.jpg,http://i.ebayimg.com/thumbs/images/g/jC8AAOSwjXRXb1Fd/s-l200.jpg,http://i.ebayimg.com/thumbs/images/g/680AAOSwOddYxwDE/s-l200.jpg,https://i.ebayimg.com/thumbs/images/g/w5QAAOSwdGFYtOqQ/s-l96.jpg,https://c1.neweggimages.com/NeweggImage/ProductImage/A3FA_1_20171002572786117.jpg,https://i5.walmartimages.com/asr/22eb9833-6712-4a63-a0fd-eb6b0f190cf9_1.240dfca5692826cd5320da084816ed6c.jpeg%25252525253FodnHeight%25252525253D450%252525252526odnWidth%25252525253D450%252525252526odnBg%25252525253DFFFFFF,https://i.ebayimg.com/thumbs/images/g/3xUAAOSwbihZzYuw/s-l96.jpg,http://i.ebayimg.com/thumbs/images/g/GwcAAOSwaB5XwIFa/s-l200.jpg,http://i.ebayimg.com/thumbs/images/g/9xEAAOSwEHpZNH8N/s-l200.jpg,http://i.ebayimg.com/thumbs/images/g/TU0AAOSw5h5ZcLrr/s-l200.jpg,http://i.ebayimg.com/thumbs/images/g/d~EAAOSw4shX7Q8h/s-l200.jpg,http://pisces.bbystatic.com/image2/BestBuy_US/images/products/5442/5442403_sa.jpg,http://i.ebayimg.com/thumbs/images/g/1WMAAOSwealY46XU/s-l200.jpg,http://i.ebayimg.com/thumbs/images/g/hgAAAOSwYmZXDmni/s-l200.jpg,http://i.ebayimg.com/thumbs/images/g/~IQAAOSw8d5ZXPG3/s-l200.jpg,http://i.ebayimg.com/thumbs/images/g/oe8AAOSwjqVZNtPW/s-l200.jpg,http://i.ebayimg.com/thumbs/images/g/x2sAAOSwGIRXYwwD/s-l200.jpg,http://i.ebayimg.com/thumbs/images/g/irIAAOSwc-tY4pWd/s-l200.jpg,https://i5.walmartimages.com/asr/61caa3ad-7f8f-4995-976f-28fc4891d9b3_1.0c01311e3eb1de12b06a1c8e81f7e826.jpeg%25252525253FodnHeight%25252525253D450%252525252526odnWidth%25252525253D450%252525252526odnBg%25252525253DFFFFFF,https://i.ebayimg.com/images/g/XegAAOSwdPBZxE-P/s-l300.jpg,http://i.ebayimg.com/thumbs/images/g/1zUAAOSwiYFXDmhl/s-l200.jpg,https://i.ebayimg.com/images/g/4XUAAOSwzVxZb9k6/s-l300.jpg,https://i5.walmartimages.com/asr/7b8c6811-3157-42ad-bc93-e42c8b291a5c_1.55bde63a786be1cefa9af65c94a9cbd0.jpeg%25252525253FodnHeight%25252525253D450%252525252526odnWidth%25252525253D450%252525252526odnBg%25252525253DFFFFFF,https://i5.walmartimages.com/asr/65f9fb31-8338-40f7-acdd-894b5aa06be7_1.728b47c501e92a07eab8038ca7069204.jpeg%25252525253FodnHeight%25252525253D450%252525252526odnWidth%25252525253D450%252525252526odnBg%25252525253DFFFFFF,https://i5.walmartimages.com/asr/938638c0-dc7f-4b67-b256-f231047aca9d_1.73592e523332cdaba5cb0f6f1dcee325.jpeg%25252525253FodnHeight%25252525253D450%252525252526odnWidth%25252525253D450%252525252526odnBg%25252525253DFFFFFF,https://i.ebayimg.com/thumbs/images/g/aS4AAOSwYlRZHKCj/s-l96.jpg,https://static.bhphoto.com/images/images500x500/kindle_b00zv9pxp2_kindle_6_ereader_special_1468510257000_1264068.jpg,https://images-na.ssl-images-amazon.com/images/I/51hrdzXLUHL.jpg,https://static.bhphoto.com/images/images500x500/kindle_b00zv9pxp2_6_ereader_special_offers_1468510257000_1264068.jpg,http://i.ebayimg.com/images/g/9xEAAOSwEHpZNH8N/s-l300.jpg,http://i.ebayimg.com/thumbs/images/g/ZJYAAOSwDKtY1CEd/s-l200.jpg,https://pisces.bbystatic.com/image2/BestBuy_US/images/products/5442/5442403_bd.jpg,https://www.upccodesearch.com/images/barcode/0848719083774.png,http://i.ebayimg.com/images/g/XegAAOSwdPBZxE-P/s-l64.jpg,http://i.ebayimg.com/images/g/p2wAAOSwe0NZ2l0G/s-l64.jpg,http://pisces.bbystatic.com/image2/BestBuy_US/images/products/5442/5442403_sd.jpg', manufacturer='allnewkindleereaderblack6glarefreetouchscreendisplaywifiincludesspecialoffers/b00zv9pxp2,allnewkindleereaderblack6glarefreetouchscreendisplaywifiincludesspecialoffers/9siafvd7fk6707,0848719083774,848719083774,allnewkindleereaderblack6glarefreetouchscreendisplaywifiincludesspecialoffers/322538285013,allnewkindleereaderblack6glarefreetouchscreendisplaywifiincludesspecialoffers/5442403,allnewkindleereaderblack6glarefreetouchscreendisplaywifiincludesspecialoffers/kier2016bk,allnewkindleereaderblack6glarefreetouchscreendisplaywifiincludesspecialoffers/162691587356,allnewkindleereaderblack6glarefreetouchscreendisplaywifiincludesspecialoffers/391843532825,allnewkindleereaderblack6glarefreetouchscreendisplaywifiincludesspecialoffers/252974470193,amazon/b00zv9pxp2,amazonkindleblack/5435001,amazonkindleblack/5442403,allnewkindleereaderblack6glarefreetouchscreendisplaywifiincludesspecialoffers/1631053', manufacturerNumber='Amazon', reviews.date='B00ZV9PXP2', reviews.dateAdded='2017-06-06T00:00:00.000Z', reviews.dateSeen=None, reviews.doRecommend='2018-05-27T00:00:00Z,2017-07-07T00:00:00Z,2017-08-09T00:00:00Z,2017-08-02T00:00:00Z,2017-08-31T00:00:00Z', reviews.id='TRUE', reviews.numHelpful=None, reviews.rating='0', reviews.sourceURLs='5', reviews.text='http://reviews.bestbuy.com/3545/5442403/reviews.htm%25252525253Fformat%25252525253Dembedded%252525252526page%25252525253D2,http://reviews.bestbuy.com/3545/5442403/reviews.htm%25252525253Fformat%25252525253Dembedded%252525252526page%25252525253D4,https://reviews.bestbuy.com/3545/5442403/reviews.htm%2525252525253Fformat%2525252525253Dembedded%25252525252526page%2525252525253D25,https://reviews.bestbuy.com/3545/5442403/reviews.htm%25252525253Fformat%25252525253Dembedded%252525252526page%25252525253D25', reviews.title='This kindle is light and easy to use especially at the beach!!!', reviews.username='Great light reader. Easy to use at the beach', sourceURLs='Charmi'),\n",
              " Row(id='AVqVGZNvQMlgsOJE6eUY', dateAdded='2017-03-03T16:56:05Z', dateUpdated='2018-10-25T16:36:31Z', name='\"Amazon Kindle E-Reader 6\"\" Wifi (8th Generation', asins=' 2016)\"', brand='B00ZV9PXP2', categories='Amazon', primaryCategories='Computers,Electronics Features,Tablets,Electronics,iPad & Tablets,Kindle E-readers,iPad Accessories,Used:Tablets,E-Readers,E-Readers & Accessories,Computers/Tablets & Networking,Used:Computers Accessories,iPads Tablets,All Tablets,Tablets & E-readers,Computers & Tablets,Amazon,Tablets & eBook Readers', imageURLs='Electronics', keys='https://pisces.bbystatic.com/image2/BestBuy_US/images/products/5442/5442403_sd.jpg,https://c1.neweggimages.com/NeweggImage/ProductImage/A3FA_1_201801081360871160.jpg,https://i.ebayimg.com/thumbs/images/g/N4IAAOSwoA9Zgkso/s-l96.jpg,http://i.ebayimg.com/thumbs/images/g/dpkAAOSwfpVZFKHy/s-l200.jpg,http://i.ebayimg.com/thumbs/images/g/PJgAAOSwiDFYPE8h/s-l200.jpg,http://i.ebayimg.com/thumbs/images/g/m38AAOSwblZZEhFQ/s-l200.jpg,https://c1.neweggimages.com/NeweggImage/ProductImage/A3FA_1_20180108629568651.jpg,http://i.ebayimg.com/thumbs/images/g/UxgAAOSw9GhYiMDI/s-l200.jpg,http://i.ebayimg.com/thumbs/images/g/QtgAAOSwdmRZcgv2/s-l200.jpg,http://i.ebayimg.com/images/g/naUAAOSw4CFY1Td7/s-l300.jpg,https://i5.walmartimages.com/asr/419af8c3-a9df-4d8b-abe4-233348661e30_1.c07bf5932d2786e31be6a32329d6323b.jpeg%25252525253FodnHeight%25252525253D450%252525252526odnWidth%25252525253D450%252525252526odnBg%25252525253DFFFFFF,http://i.ebayimg.com/thumbs/images/g/vykAAOSwmtJXYxpm/s-l200.jpg,http://i.ebayimg.com/thumbs/images/g/b80AAOSw-0xYNxg~/s-l200.jpg,https://target.scene7.com/is/image/Target/GUEST_302b59ff-dc90-444b-aec7-cfc65dd08989,https://static.bhphoto.com/images/itemImgPlaceholder.jpg,http://i.ebayimg.com/thumbs/images/i/263085587688-0-1/s-l200.jpg,https://target.scene7.com/is/image/Target/GUEST_ccc6016d-0b26-4b28-9832-27a61855a4b4,https://www.barcodable.com/images/barcode/0848719083774.png,http://i.ebayimg.com/thumbs/images/g/aS4AAOSwYlRZHKCj/s-l200.jpg,https://pisces.bbystatic.com/image2/BestBuy_US/images/products/5442/5442403_rd.jpg,https://i.ebayimg.com/thumbs/images/g/XGMAAOSwqz9Z3EKW/s-l96.jpg,http://i.ebayimg.com/thumbs/images/g/5qkAAOSw5cNYblJ0/s-l200.jpg,https://pisces.bbystatic.com/image2/BestBuy_US/images/products/5442/5442403ld.jpg,https://i5.walmartimages.com/asr/deaab745-3d31-4bab-a7ae-a350220642ef_1.f4e5e498dd67abc007e96b10b526ee2c.jpeg%25252525253FodnHeight%25252525253D450%252525252526odnWidth%25252525253D450%252525252526odnBg%25252525253DFFFFFF,http://i.ebayimg.com/thumbs/images/g/rWAAAOSwEzxYRbeX/s-l200.jpg,http://i.ebayimg.com/thumbs/images/g/jC8AAOSwjXRXb1Fd/s-l200.jpg,http://i.ebayimg.com/thumbs/images/g/680AAOSwOddYxwDE/s-l200.jpg,https://i.ebayimg.com/thumbs/images/g/w5QAAOSwdGFYtOqQ/s-l96.jpg,https://c1.neweggimages.com/NeweggImage/ProductImage/A3FA_1_20171002572786117.jpg,https://i5.walmartimages.com/asr/22eb9833-6712-4a63-a0fd-eb6b0f190cf9_1.240dfca5692826cd5320da084816ed6c.jpeg%25252525253FodnHeight%25252525253D450%252525252526odnWidth%25252525253D450%252525252526odnBg%25252525253DFFFFFF,https://i.ebayimg.com/thumbs/images/g/3xUAAOSwbihZzYuw/s-l96.jpg,http://i.ebayimg.com/thumbs/images/g/GwcAAOSwaB5XwIFa/s-l200.jpg,http://i.ebayimg.com/thumbs/images/g/9xEAAOSwEHpZNH8N/s-l200.jpg,http://i.ebayimg.com/thumbs/images/g/TU0AAOSw5h5ZcLrr/s-l200.jpg,http://i.ebayimg.com/thumbs/images/g/d~EAAOSw4shX7Q8h/s-l200.jpg,http://pisces.bbystatic.com/image2/BestBuy_US/images/products/5442/5442403_sa.jpg,http://i.ebayimg.com/thumbs/images/g/1WMAAOSwealY46XU/s-l200.jpg,http://i.ebayimg.com/thumbs/images/g/hgAAAOSwYmZXDmni/s-l200.jpg,http://i.ebayimg.com/thumbs/images/g/~IQAAOSw8d5ZXPG3/s-l200.jpg,http://i.ebayimg.com/thumbs/images/g/oe8AAOSwjqVZNtPW/s-l200.jpg,http://i.ebayimg.com/thumbs/images/g/x2sAAOSwGIRXYwwD/s-l200.jpg,http://i.ebayimg.com/thumbs/images/g/irIAAOSwc-tY4pWd/s-l200.jpg,https://i5.walmartimages.com/asr/61caa3ad-7f8f-4995-976f-28fc4891d9b3_1.0c01311e3eb1de12b06a1c8e81f7e826.jpeg%25252525253FodnHeight%25252525253D450%252525252526odnWidth%25252525253D450%252525252526odnBg%25252525253DFFFFFF,https://i.ebayimg.com/images/g/XegAAOSwdPBZxE-P/s-l300.jpg,http://i.ebayimg.com/thumbs/images/g/1zUAAOSwiYFXDmhl/s-l200.jpg,https://i.ebayimg.com/images/g/4XUAAOSwzVxZb9k6/s-l300.jpg,https://i5.walmartimages.com/asr/7b8c6811-3157-42ad-bc93-e42c8b291a5c_1.55bde63a786be1cefa9af65c94a9cbd0.jpeg%25252525253FodnHeight%25252525253D450%252525252526odnWidth%25252525253D450%252525252526odnBg%25252525253DFFFFFF,https://i5.walmartimages.com/asr/65f9fb31-8338-40f7-acdd-894b5aa06be7_1.728b47c501e92a07eab8038ca7069204.jpeg%25252525253FodnHeight%25252525253D450%252525252526odnWidth%25252525253D450%252525252526odnBg%25252525253DFFFFFF,https://i5.walmartimages.com/asr/938638c0-dc7f-4b67-b256-f231047aca9d_1.73592e523332cdaba5cb0f6f1dcee325.jpeg%25252525253FodnHeight%25252525253D450%252525252526odnWidth%25252525253D450%252525252526odnBg%25252525253DFFFFFF,https://i.ebayimg.com/thumbs/images/g/aS4AAOSwYlRZHKCj/s-l96.jpg,https://static.bhphoto.com/images/images500x500/kindle_b00zv9pxp2_kindle_6_ereader_special_1468510257000_1264068.jpg,https://images-na.ssl-images-amazon.com/images/I/51hrdzXLUHL.jpg,https://static.bhphoto.com/images/images500x500/kindle_b00zv9pxp2_6_ereader_special_offers_1468510257000_1264068.jpg,http://i.ebayimg.com/images/g/9xEAAOSwEHpZNH8N/s-l300.jpg,http://i.ebayimg.com/thumbs/images/g/ZJYAAOSwDKtY1CEd/s-l200.jpg,https://pisces.bbystatic.com/image2/BestBuy_US/images/products/5442/5442403_bd.jpg,https://www.upccodesearch.com/images/barcode/0848719083774.png,http://i.ebayimg.com/images/g/XegAAOSwdPBZxE-P/s-l64.jpg,http://i.ebayimg.com/images/g/p2wAAOSwe0NZ2l0G/s-l64.jpg,http://pisces.bbystatic.com/image2/BestBuy_US/images/products/5442/5442403_sd.jpg', manufacturer='allnewkindleereaderblack6glarefreetouchscreendisplaywifiincludesspecialoffers/b00zv9pxp2,allnewkindleereaderblack6glarefreetouchscreendisplaywifiincludesspecialoffers/9siafvd7fk6707,0848719083774,848719083774,allnewkindleereaderblack6glarefreetouchscreendisplaywifiincludesspecialoffers/322538285013,allnewkindleereaderblack6glarefreetouchscreendisplaywifiincludesspecialoffers/5442403,allnewkindleereaderblack6glarefreetouchscreendisplaywifiincludesspecialoffers/kier2016bk,allnewkindleereaderblack6glarefreetouchscreendisplaywifiincludesspecialoffers/162691587356,allnewkindleereaderblack6glarefreetouchscreendisplaywifiincludesspecialoffers/391843532825,allnewkindleereaderblack6glarefreetouchscreendisplaywifiincludesspecialoffers/252974470193,amazon/b00zv9pxp2,amazonkindleblack/5435001,amazonkindleblack/5442403,allnewkindleereaderblack6glarefreetouchscreendisplaywifiincludesspecialoffers/1631053', manufacturerNumber='Amazon', reviews.date='B00ZV9PXP2', reviews.dateAdded='2018-04-20T00:00:00.000Z', reviews.dateSeen=None, reviews.doRecommend='2018-05-27T00:00:00Z', reviews.id='TRUE', reviews.numHelpful=None, reviews.rating='0', reviews.sourceURLs='4', reviews.text='https://reviews.bestbuy.com/3545/5442403/reviews.htm%2525252525253Fformat%2525252525253Dembedded%25252525252526page%2525252525253D3,https://reviews.bestbuy.com/3545/5442403/reviews.htm%25252525253Fformat%25252525253Dembedded%252525252526page%25252525253D3', reviews.title=\"Didnt know how much i'd use a kindle so went for the lower end. im happy with it, even if its a little dark\", reviews.username='Great for the price', sourceURLs='johnnyjojojo'),\n",
              " Row(id='AVqVGZNvQMlgsOJE6eUY', dateAdded='2017-03-03T16:56:05Z', dateUpdated='2018-10-25T16:36:31Z', name='\"Amazon Kindle E-Reader 6\"\" Wifi (8th Generation', asins=' 2016)\"', brand='B00ZV9PXP2', categories='Amazon', primaryCategories='Computers,Electronics Features,Tablets,Electronics,iPad & Tablets,Kindle E-readers,iPad Accessories,Used:Tablets,E-Readers,E-Readers & Accessories,Computers/Tablets & Networking,Used:Computers Accessories,iPads Tablets,All Tablets,Tablets & E-readers,Computers & Tablets,Amazon,Tablets & eBook Readers', imageURLs='Electronics', keys='https://pisces.bbystatic.com/image2/BestBuy_US/images/products/5442/5442403_sd.jpg,https://c1.neweggimages.com/NeweggImage/ProductImage/A3FA_1_201801081360871160.jpg,https://i.ebayimg.com/thumbs/images/g/N4IAAOSwoA9Zgkso/s-l96.jpg,http://i.ebayimg.com/thumbs/images/g/dpkAAOSwfpVZFKHy/s-l200.jpg,http://i.ebayimg.com/thumbs/images/g/PJgAAOSwiDFYPE8h/s-l200.jpg,http://i.ebayimg.com/thumbs/images/g/m38AAOSwblZZEhFQ/s-l200.jpg,https://c1.neweggimages.com/NeweggImage/ProductImage/A3FA_1_20180108629568651.jpg,http://i.ebayimg.com/thumbs/images/g/UxgAAOSw9GhYiMDI/s-l200.jpg,http://i.ebayimg.com/thumbs/images/g/QtgAAOSwdmRZcgv2/s-l200.jpg,http://i.ebayimg.com/images/g/naUAAOSw4CFY1Td7/s-l300.jpg,https://i5.walmartimages.com/asr/419af8c3-a9df-4d8b-abe4-233348661e30_1.c07bf5932d2786e31be6a32329d6323b.jpeg%25252525253FodnHeight%25252525253D450%252525252526odnWidth%25252525253D450%252525252526odnBg%25252525253DFFFFFF,http://i.ebayimg.com/thumbs/images/g/vykAAOSwmtJXYxpm/s-l200.jpg,http://i.ebayimg.com/thumbs/images/g/b80AAOSw-0xYNxg~/s-l200.jpg,https://target.scene7.com/is/image/Target/GUEST_302b59ff-dc90-444b-aec7-cfc65dd08989,https://static.bhphoto.com/images/itemImgPlaceholder.jpg,http://i.ebayimg.com/thumbs/images/i/263085587688-0-1/s-l200.jpg,https://target.scene7.com/is/image/Target/GUEST_ccc6016d-0b26-4b28-9832-27a61855a4b4,https://www.barcodable.com/images/barcode/0848719083774.png,http://i.ebayimg.com/thumbs/images/g/aS4AAOSwYlRZHKCj/s-l200.jpg,https://pisces.bbystatic.com/image2/BestBuy_US/images/products/5442/5442403_rd.jpg,https://i.ebayimg.com/thumbs/images/g/XGMAAOSwqz9Z3EKW/s-l96.jpg,http://i.ebayimg.com/thumbs/images/g/5qkAAOSw5cNYblJ0/s-l200.jpg,https://pisces.bbystatic.com/image2/BestBuy_US/images/products/5442/5442403ld.jpg,https://i5.walmartimages.com/asr/deaab745-3d31-4bab-a7ae-a350220642ef_1.f4e5e498dd67abc007e96b10b526ee2c.jpeg%25252525253FodnHeight%25252525253D450%252525252526odnWidth%25252525253D450%252525252526odnBg%25252525253DFFFFFF,http://i.ebayimg.com/thumbs/images/g/rWAAAOSwEzxYRbeX/s-l200.jpg,http://i.ebayimg.com/thumbs/images/g/jC8AAOSwjXRXb1Fd/s-l200.jpg,http://i.ebayimg.com/thumbs/images/g/680AAOSwOddYxwDE/s-l200.jpg,https://i.ebayimg.com/thumbs/images/g/w5QAAOSwdGFYtOqQ/s-l96.jpg,https://c1.neweggimages.com/NeweggImage/ProductImage/A3FA_1_20171002572786117.jpg,https://i5.walmartimages.com/asr/22eb9833-6712-4a63-a0fd-eb6b0f190cf9_1.240dfca5692826cd5320da084816ed6c.jpeg%25252525253FodnHeight%25252525253D450%252525252526odnWidth%25252525253D450%252525252526odnBg%25252525253DFFFFFF,https://i.ebayimg.com/thumbs/images/g/3xUAAOSwbihZzYuw/s-l96.jpg,http://i.ebayimg.com/thumbs/images/g/GwcAAOSwaB5XwIFa/s-l200.jpg,http://i.ebayimg.com/thumbs/images/g/9xEAAOSwEHpZNH8N/s-l200.jpg,http://i.ebayimg.com/thumbs/images/g/TU0AAOSw5h5ZcLrr/s-l200.jpg,http://i.ebayimg.com/thumbs/images/g/d~EAAOSw4shX7Q8h/s-l200.jpg,http://pisces.bbystatic.com/image2/BestBuy_US/images/products/5442/5442403_sa.jpg,http://i.ebayimg.com/thumbs/images/g/1WMAAOSwealY46XU/s-l200.jpg,http://i.ebayimg.com/thumbs/images/g/hgAAAOSwYmZXDmni/s-l200.jpg,http://i.ebayimg.com/thumbs/images/g/~IQAAOSw8d5ZXPG3/s-l200.jpg,http://i.ebayimg.com/thumbs/images/g/oe8AAOSwjqVZNtPW/s-l200.jpg,http://i.ebayimg.com/thumbs/images/g/x2sAAOSwGIRXYwwD/s-l200.jpg,http://i.ebayimg.com/thumbs/images/g/irIAAOSwc-tY4pWd/s-l200.jpg,https://i5.walmartimages.com/asr/61caa3ad-7f8f-4995-976f-28fc4891d9b3_1.0c01311e3eb1de12b06a1c8e81f7e826.jpeg%25252525253FodnHeight%25252525253D450%252525252526odnWidth%25252525253D450%252525252526odnBg%25252525253DFFFFFF,https://i.ebayimg.com/images/g/XegAAOSwdPBZxE-P/s-l300.jpg,http://i.ebayimg.com/thumbs/images/g/1zUAAOSwiYFXDmhl/s-l200.jpg,https://i.ebayimg.com/images/g/4XUAAOSwzVxZb9k6/s-l300.jpg,https://i5.walmartimages.com/asr/7b8c6811-3157-42ad-bc93-e42c8b291a5c_1.55bde63a786be1cefa9af65c94a9cbd0.jpeg%25252525253FodnHeight%25252525253D450%252525252526odnWidth%25252525253D450%252525252526odnBg%25252525253DFFFFFF,https://i5.walmartimages.com/asr/65f9fb31-8338-40f7-acdd-894b5aa06be7_1.728b47c501e92a07eab8038ca7069204.jpeg%25252525253FodnHeight%25252525253D450%252525252526odnWidth%25252525253D450%252525252526odnBg%25252525253DFFFFFF,https://i5.walmartimages.com/asr/938638c0-dc7f-4b67-b256-f231047aca9d_1.73592e523332cdaba5cb0f6f1dcee325.jpeg%25252525253FodnHeight%25252525253D450%252525252526odnWidth%25252525253D450%252525252526odnBg%25252525253DFFFFFF,https://i.ebayimg.com/thumbs/images/g/aS4AAOSwYlRZHKCj/s-l96.jpg,https://static.bhphoto.com/images/images500x500/kindle_b00zv9pxp2_kindle_6_ereader_special_1468510257000_1264068.jpg,https://images-na.ssl-images-amazon.com/images/I/51hrdzXLUHL.jpg,https://static.bhphoto.com/images/images500x500/kindle_b00zv9pxp2_6_ereader_special_offers_1468510257000_1264068.jpg,http://i.ebayimg.com/images/g/9xEAAOSwEHpZNH8N/s-l300.jpg,http://i.ebayimg.com/thumbs/images/g/ZJYAAOSwDKtY1CEd/s-l200.jpg,https://pisces.bbystatic.com/image2/BestBuy_US/images/products/5442/5442403_bd.jpg,https://www.upccodesearch.com/images/barcode/0848719083774.png,http://i.ebayimg.com/images/g/XegAAOSwdPBZxE-P/s-l64.jpg,http://i.ebayimg.com/images/g/p2wAAOSwe0NZ2l0G/s-l64.jpg,http://pisces.bbystatic.com/image2/BestBuy_US/images/products/5442/5442403_sd.jpg', manufacturer='allnewkindleereaderblack6glarefreetouchscreendisplaywifiincludesspecialoffers/b00zv9pxp2,allnewkindleereaderblack6glarefreetouchscreendisplaywifiincludesspecialoffers/9siafvd7fk6707,0848719083774,848719083774,allnewkindleereaderblack6glarefreetouchscreendisplaywifiincludesspecialoffers/322538285013,allnewkindleereaderblack6glarefreetouchscreendisplaywifiincludesspecialoffers/5442403,allnewkindleereaderblack6glarefreetouchscreendisplaywifiincludesspecialoffers/kier2016bk,allnewkindleereaderblack6glarefreetouchscreendisplaywifiincludesspecialoffers/162691587356,allnewkindleereaderblack6glarefreetouchscreendisplaywifiincludesspecialoffers/391843532825,allnewkindleereaderblack6glarefreetouchscreendisplaywifiincludesspecialoffers/252974470193,amazon/b00zv9pxp2,amazonkindleblack/5435001,amazonkindleblack/5442403,allnewkindleereaderblack6glarefreetouchscreendisplaywifiincludesspecialoffers/1631053', manufacturerNumber='Amazon', reviews.date='B00ZV9PXP2', reviews.dateAdded='2017-11-02T17:33:31.000Z', reviews.dateSeen=None, reviews.doRecommend='2018-10-09T00:00:00Z', reviews.id='TRUE', reviews.numHelpful='177283626', reviews.rating='3', reviews.sourceURLs='5', reviews.text='https://redsky.target.com/groot-domain-api/v1/reviews/51467832?sort=helpfulness_desc&limit=1000&offset=0', reviews.title=\"I am 100 happy with my purchase. I caught it on sale at a really good price. I am normally a real book person, but I have a 1 year old who loves ripping up pages. The Kindle prevents that, it's extremely portable (it fits better in my purse than a giant book), and I have it loaded with lots of books. I finish one and start another, without having to go store. It serves all my needs. I picked this one over the Paperwhite because the price was unbeatable and the only difference that I could see was this one wasn't backlit. A simple book light from the Dollar tree solves that issue. This is my second Kindle (the first being the old Keyboard model, which I put down because I fell out of love with the keyboard. Lol) and it most likely won't be my last.\", reviews.username='A Great Buy', sourceURLs='Kdperry'),\n",
              " Row(id='AVqVGZNvQMlgsOJE6eUY', dateAdded='2017-03-03T16:56:05Z', dateUpdated='2018-10-25T16:36:31Z', name='\"Amazon Kindle E-Reader 6\"\" Wifi (8th Generation', asins=' 2016)\"', brand='B00ZV9PXP2', categories='Amazon', primaryCategories='Computers,Electronics Features,Tablets,Electronics,iPad & Tablets,Kindle E-readers,iPad Accessories,Used:Tablets,E-Readers,E-Readers & Accessories,Computers/Tablets & Networking,Used:Computers Accessories,iPads Tablets,All Tablets,Tablets & E-readers,Computers & Tablets,Amazon,Tablets & eBook Readers', imageURLs='Electronics', keys='https://pisces.bbystatic.com/image2/BestBuy_US/images/products/5442/5442403_sd.jpg,https://c1.neweggimages.com/NeweggImage/ProductImage/A3FA_1_201801081360871160.jpg,https://i.ebayimg.com/thumbs/images/g/N4IAAOSwoA9Zgkso/s-l96.jpg,http://i.ebayimg.com/thumbs/images/g/dpkAAOSwfpVZFKHy/s-l200.jpg,http://i.ebayimg.com/thumbs/images/g/PJgAAOSwiDFYPE8h/s-l200.jpg,http://i.ebayimg.com/thumbs/images/g/m38AAOSwblZZEhFQ/s-l200.jpg,https://c1.neweggimages.com/NeweggImage/ProductImage/A3FA_1_20180108629568651.jpg,http://i.ebayimg.com/thumbs/images/g/UxgAAOSw9GhYiMDI/s-l200.jpg,http://i.ebayimg.com/thumbs/images/g/QtgAAOSwdmRZcgv2/s-l200.jpg,http://i.ebayimg.com/images/g/naUAAOSw4CFY1Td7/s-l300.jpg,https://i5.walmartimages.com/asr/419af8c3-a9df-4d8b-abe4-233348661e30_1.c07bf5932d2786e31be6a32329d6323b.jpeg%25252525253FodnHeight%25252525253D450%252525252526odnWidth%25252525253D450%252525252526odnBg%25252525253DFFFFFF,http://i.ebayimg.com/thumbs/images/g/vykAAOSwmtJXYxpm/s-l200.jpg,http://i.ebayimg.com/thumbs/images/g/b80AAOSw-0xYNxg~/s-l200.jpg,https://target.scene7.com/is/image/Target/GUEST_302b59ff-dc90-444b-aec7-cfc65dd08989,https://static.bhphoto.com/images/itemImgPlaceholder.jpg,http://i.ebayimg.com/thumbs/images/i/263085587688-0-1/s-l200.jpg,https://target.scene7.com/is/image/Target/GUEST_ccc6016d-0b26-4b28-9832-27a61855a4b4,https://www.barcodable.com/images/barcode/0848719083774.png,http://i.ebayimg.com/thumbs/images/g/aS4AAOSwYlRZHKCj/s-l200.jpg,https://pisces.bbystatic.com/image2/BestBuy_US/images/products/5442/5442403_rd.jpg,https://i.ebayimg.com/thumbs/images/g/XGMAAOSwqz9Z3EKW/s-l96.jpg,http://i.ebayimg.com/thumbs/images/g/5qkAAOSw5cNYblJ0/s-l200.jpg,https://pisces.bbystatic.com/image2/BestBuy_US/images/products/5442/5442403ld.jpg,https://i5.walmartimages.com/asr/deaab745-3d31-4bab-a7ae-a350220642ef_1.f4e5e498dd67abc007e96b10b526ee2c.jpeg%25252525253FodnHeight%25252525253D450%252525252526odnWidth%25252525253D450%252525252526odnBg%25252525253DFFFFFF,http://i.ebayimg.com/thumbs/images/g/rWAAAOSwEzxYRbeX/s-l200.jpg,http://i.ebayimg.com/thumbs/images/g/jC8AAOSwjXRXb1Fd/s-l200.jpg,http://i.ebayimg.com/thumbs/images/g/680AAOSwOddYxwDE/s-l200.jpg,https://i.ebayimg.com/thumbs/images/g/w5QAAOSwdGFYtOqQ/s-l96.jpg,https://c1.neweggimages.com/NeweggImage/ProductImage/A3FA_1_20171002572786117.jpg,https://i5.walmartimages.com/asr/22eb9833-6712-4a63-a0fd-eb6b0f190cf9_1.240dfca5692826cd5320da084816ed6c.jpeg%25252525253FodnHeight%25252525253D450%252525252526odnWidth%25252525253D450%252525252526odnBg%25252525253DFFFFFF,https://i.ebayimg.com/thumbs/images/g/3xUAAOSwbihZzYuw/s-l96.jpg,http://i.ebayimg.com/thumbs/images/g/GwcAAOSwaB5XwIFa/s-l200.jpg,http://i.ebayimg.com/thumbs/images/g/9xEAAOSwEHpZNH8N/s-l200.jpg,http://i.ebayimg.com/thumbs/images/g/TU0AAOSw5h5ZcLrr/s-l200.jpg,http://i.ebayimg.com/thumbs/images/g/d~EAAOSw4shX7Q8h/s-l200.jpg,http://pisces.bbystatic.com/image2/BestBuy_US/images/products/5442/5442403_sa.jpg,http://i.ebayimg.com/thumbs/images/g/1WMAAOSwealY46XU/s-l200.jpg,http://i.ebayimg.com/thumbs/images/g/hgAAAOSwYmZXDmni/s-l200.jpg,http://i.ebayimg.com/thumbs/images/g/~IQAAOSw8d5ZXPG3/s-l200.jpg,http://i.ebayimg.com/thumbs/images/g/oe8AAOSwjqVZNtPW/s-l200.jpg,http://i.ebayimg.com/thumbs/images/g/x2sAAOSwGIRXYwwD/s-l200.jpg,http://i.ebayimg.com/thumbs/images/g/irIAAOSwc-tY4pWd/s-l200.jpg,https://i5.walmartimages.com/asr/61caa3ad-7f8f-4995-976f-28fc4891d9b3_1.0c01311e3eb1de12b06a1c8e81f7e826.jpeg%25252525253FodnHeight%25252525253D450%252525252526odnWidth%25252525253D450%252525252526odnBg%25252525253DFFFFFF,https://i.ebayimg.com/images/g/XegAAOSwdPBZxE-P/s-l300.jpg,http://i.ebayimg.com/thumbs/images/g/1zUAAOSwiYFXDmhl/s-l200.jpg,https://i.ebayimg.com/images/g/4XUAAOSwzVxZb9k6/s-l300.jpg,https://i5.walmartimages.com/asr/7b8c6811-3157-42ad-bc93-e42c8b291a5c_1.55bde63a786be1cefa9af65c94a9cbd0.jpeg%25252525253FodnHeight%25252525253D450%252525252526odnWidth%25252525253D450%252525252526odnBg%25252525253DFFFFFF,https://i5.walmartimages.com/asr/65f9fb31-8338-40f7-acdd-894b5aa06be7_1.728b47c501e92a07eab8038ca7069204.jpeg%25252525253FodnHeight%25252525253D450%252525252526odnWidth%25252525253D450%252525252526odnBg%25252525253DFFFFFF,https://i5.walmartimages.com/asr/938638c0-dc7f-4b67-b256-f231047aca9d_1.73592e523332cdaba5cb0f6f1dcee325.jpeg%25252525253FodnHeight%25252525253D450%252525252526odnWidth%25252525253D450%252525252526odnBg%25252525253DFFFFFF,https://i.ebayimg.com/thumbs/images/g/aS4AAOSwYlRZHKCj/s-l96.jpg,https://static.bhphoto.com/images/images500x500/kindle_b00zv9pxp2_kindle_6_ereader_special_1468510257000_1264068.jpg,https://images-na.ssl-images-amazon.com/images/I/51hrdzXLUHL.jpg,https://static.bhphoto.com/images/images500x500/kindle_b00zv9pxp2_6_ereader_special_offers_1468510257000_1264068.jpg,http://i.ebayimg.com/images/g/9xEAAOSwEHpZNH8N/s-l300.jpg,http://i.ebayimg.com/thumbs/images/g/ZJYAAOSwDKtY1CEd/s-l200.jpg,https://pisces.bbystatic.com/image2/BestBuy_US/images/products/5442/5442403_bd.jpg,https://www.upccodesearch.com/images/barcode/0848719083774.png,http://i.ebayimg.com/images/g/XegAAOSwdPBZxE-P/s-l64.jpg,http://i.ebayimg.com/images/g/p2wAAOSwe0NZ2l0G/s-l64.jpg,http://pisces.bbystatic.com/image2/BestBuy_US/images/products/5442/5442403_sd.jpg', manufacturer='allnewkindleereaderblack6glarefreetouchscreendisplaywifiincludesspecialoffers/b00zv9pxp2,allnewkindleereaderblack6glarefreetouchscreendisplaywifiincludesspecialoffers/9siafvd7fk6707,0848719083774,848719083774,allnewkindleereaderblack6glarefreetouchscreendisplaywifiincludesspecialoffers/322538285013,allnewkindleereaderblack6glarefreetouchscreendisplaywifiincludesspecialoffers/5442403,allnewkindleereaderblack6glarefreetouchscreendisplaywifiincludesspecialoffers/kier2016bk,allnewkindleereaderblack6glarefreetouchscreendisplaywifiincludesspecialoffers/162691587356,allnewkindleereaderblack6glarefreetouchscreendisplaywifiincludesspecialoffers/391843532825,allnewkindleereaderblack6glarefreetouchscreendisplaywifiincludesspecialoffers/252974470193,amazon/b00zv9pxp2,amazonkindleblack/5435001,amazonkindleblack/5442403,allnewkindleereaderblack6glarefreetouchscreendisplaywifiincludesspecialoffers/1631053', manufacturerNumber='Amazon', reviews.date='B00ZV9PXP2', reviews.dateAdded='2018-04-24T00:00:00.000Z', reviews.dateSeen=None, reviews.doRecommend='2018-05-27T00:00:00Z', reviews.id='TRUE', reviews.numHelpful=None, reviews.rating='0', reviews.sourceURLs='5', reviews.text='https://reviews.bestbuy.com/3545/5442403/reviews.htm%2525252525253Fformat%2525252525253Dembedded%25252525252526page%2525252525253D2,https://reviews.bestbuy.com/3545/5442403/reviews.htm%25252525253Fformat%25252525253Dembedded%252525252526page%25252525253D2', reviews.title='Solid entry level Kindle. Great for kids. Gifted for a kid of my friend and they love to use it to read more than their iPads. battery is good but higher model is a bit better.', reviews.username='Solid entry-level Kindle. Great for kids', sourceURLs='Johnnyblack')]"
            ]
          },
          "metadata": {
            "tags": []
          },
          "execution_count": 50
        }
      ]
    },
    {
      "cell_type": "code",
      "metadata": {
        "id": "7eNInPq-4P0j",
        "colab_type": "code",
        "outputId": "9b0f41ac-f819-42fe-9bb5-d1d552186c30",
        "colab": {
          "base_uri": "https://localhost:8080/",
          "height": 232
        }
      },
      "source": [
        "# Visualise the 5 different reviews WordCloud and figure other ways to quantify frequency of words\n",
        "# From - https://towardsdatascience.com/spam-classifier-in-python-from-scratch-27a98ddd8e73\n",
        "\n",
        "# WorldCloud - Review == 1 \n",
        "reviewone = ' '.join(list([mails['label']==1]['message']))\n",
        "reviewone_wc = WordCloud(width=512,height=512).generate(reviewone)\n",
        "\n",
        "plt.figure(figsize = (10,8), facecolor = 'k')\n",
        "plt.imshow(reviewone_wc)\n",
        "plt.axis('off')\n",
        "plt.tight_layout(pad = 0)\n",
        "plt.show()"
      ],
      "execution_count": 0,
      "outputs": [
        {
          "output_type": "error",
          "ename": "NameError",
          "evalue": "ignored",
          "traceback": [
            "\u001b[0;31m---------------------------------------------------------------------------\u001b[0m",
            "\u001b[0;31mNameError\u001b[0m                                 Traceback (most recent call last)",
            "\u001b[0;32m<ipython-input-7-f7e897c5f25d>\u001b[0m in \u001b[0;36m<module>\u001b[0;34m()\u001b[0m\n\u001b[0;32m----> 1\u001b[0;31m \u001b[0mreviewone\u001b[0m \u001b[0;34m=\u001b[0m \u001b[0;34m' '\u001b[0m\u001b[0;34m.\u001b[0m\u001b[0mjoin\u001b[0m\u001b[0;34m(\u001b[0m\u001b[0mlist\u001b[0m\u001b[0;34m(\u001b[0m\u001b[0mmails\u001b[0m\u001b[0;34m[\u001b[0m\u001b[0mmails\u001b[0m\u001b[0;34m[\u001b[0m\u001b[0;34m'label'\u001b[0m\u001b[0;34m]\u001b[0m\u001b[0;34m==\u001b[0m\u001b[0;36m1\u001b[0m\u001b[0;34m]\u001b[0m\u001b[0;34m[\u001b[0m\u001b[0;34m'message'\u001b[0m\u001b[0;34m]\u001b[0m\u001b[0;34m)\u001b[0m\u001b[0;34m)\u001b[0m\u001b[0;34m\u001b[0m\u001b[0;34m\u001b[0m\u001b[0m\n\u001b[0m\u001b[1;32m      2\u001b[0m \u001b[0mreviewone_wc\u001b[0m \u001b[0;34m=\u001b[0m \u001b[0mWordCloud\u001b[0m\u001b[0;34m(\u001b[0m\u001b[0mwidth\u001b[0m\u001b[0;34m=\u001b[0m\u001b[0;36m512\u001b[0m\u001b[0;34m,\u001b[0m\u001b[0mheight\u001b[0m\u001b[0;34m=\u001b[0m\u001b[0;36m512\u001b[0m\u001b[0;34m)\u001b[0m\u001b[0;34m.\u001b[0m\u001b[0mgenerate\u001b[0m\u001b[0;34m(\u001b[0m\u001b[0mreviewone\u001b[0m\u001b[0;34m)\u001b[0m\u001b[0;34m\u001b[0m\u001b[0;34m\u001b[0m\u001b[0m\n\u001b[1;32m      3\u001b[0m \u001b[0;34m\u001b[0m\u001b[0m\n\u001b[1;32m      4\u001b[0m \u001b[0mplt\u001b[0m\u001b[0;34m.\u001b[0m\u001b[0mfigure\u001b[0m\u001b[0;34m(\u001b[0m\u001b[0mfigsize\u001b[0m \u001b[0;34m=\u001b[0m \u001b[0;34m(\u001b[0m\u001b[0;36m10\u001b[0m\u001b[0;34m,\u001b[0m\u001b[0;36m8\u001b[0m\u001b[0;34m)\u001b[0m\u001b[0;34m,\u001b[0m \u001b[0mfacecolor\u001b[0m \u001b[0;34m=\u001b[0m \u001b[0;34m'k'\u001b[0m\u001b[0;34m)\u001b[0m\u001b[0;34m\u001b[0m\u001b[0;34m\u001b[0m\u001b[0m\n\u001b[1;32m      5\u001b[0m \u001b[0mplt\u001b[0m\u001b[0;34m.\u001b[0m\u001b[0mimshow\u001b[0m\u001b[0;34m(\u001b[0m\u001b[0mreviewone_wc\u001b[0m\u001b[0;34m)\u001b[0m\u001b[0;34m\u001b[0m\u001b[0;34m\u001b[0m\u001b[0m\n",
            "\u001b[0;31mNameError\u001b[0m: name 'mails' is not defined"
          ]
        }
      ]
    },
    {
      "cell_type": "code",
      "metadata": {
        "id": "okUnQOyH_jr2",
        "colab_type": "code",
        "colab": {}
      },
      "source": [
        "# Set voting values.\n",
        "ABSTAIN = -1\n",
        "SPAM = 1 \n",
        "HAM = 0"
      ],
      "execution_count": 0,
      "outputs": []
    },
    {
      "cell_type": "code",
      "metadata": {
        "id": "rKyVKwE84hQ4",
        "colab_type": "code",
        "colab": {}
      },
      "source": [
        "# Labelling Funtions for the 5 different review tiers\n",
        "\n",
        "@labeling_function()\n",
        "def check(x):\n",
        "    return SPAM if \"check\" in x.text.lower() else ABSTAIN\n",
        "\n",
        "    @labeling_function()\n",
        "def check(x):\n",
        "    return SPAM if \"check\" in x.text.lower() else ABSTAIN\n",
        "\n",
        "    @labeling_function()\n",
        "def check(x):\n",
        "    return SPAM if \"check\" in x.text.lower() else ABSTAIN\n",
        "    \n",
        "    @labeling_function()\n",
        "def check(x):\n",
        "    return SPAM if \"check\" in x.text.lower() else ABSTAIN"
      ],
      "execution_count": 0,
      "outputs": []
    },
    {
      "cell_type": "code",
      "metadata": {
        "id": "9PEo7hHe4s2s",
        "colab_type": "code",
        "colab": {}
      },
      "source": [
        "# Code to apply all our fucntions\n",
        "lfs = [#all our functions]\n",
        "\n",
        "applier = PandasLFApplier(lfs=lfs)\n",
        "L_train = applier.apply(df=df_train)"
      ],
      "execution_count": 0,
      "outputs": []
    },
    {
      "cell_type": "code",
      "metadata": {
        "id": "D35L1pWt8hRs",
        "colab_type": "code",
        "colab": {}
      },
      "source": [
        "# Performance Evaluation"
      ],
      "execution_count": 0,
      "outputs": []
    },
    {
      "cell_type": "code",
      "metadata": {
        "id": "od2dGEhp8ks5",
        "colab_type": "code",
        "colab": {}
      },
      "source": [
        "coverage_check_out, coverage_check = (L_train != ABSTAIN).mean(axis=0)\n",
        "print(f\"check_out coverage: {coverage_check_out * 100:.1f}%\")\n",
        "print(f\"check coverage: {coverage_check * 100:.1f}%\")"
      ],
      "execution_count": 0,
      "outputs": []
    },
    {
      "cell_type": "code",
      "metadata": {
        "id": "bweWoy1H8nyZ",
        "colab_type": "code",
        "colab": {}
      },
      "source": [
        ""
      ],
      "execution_count": 0,
      "outputs": []
    }
  ]
}
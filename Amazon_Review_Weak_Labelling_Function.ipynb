{
  "nbformat": 4,
  "nbformat_minor": 0,
  "metadata": {
    "colab": {
      "name": "Amazon Review Weak Labelling Function.ipynb",
      "provenance": [],
      "collapsed_sections": [
        "nYjmIbwAT-oX",
        "YVJUDtU4DaBW",
        "sC66Uct0W3UG",
        "VEtxxMSBdPwF",
        "KtLrftqKZvVq",
        "VZ1mtfoir_8K",
        "p41EL9cuSTFd",
        "dEngBulQ-WDd",
        "4X7cCEotSbVw",
        "PeKc-pPbSFc6"
      ],
      "include_colab_link": true
    },
    "kernelspec": {
      "name": "python3",
      "display_name": "Python 3"
    }
  },
  "cells": [
    {
      "cell_type": "markdown",
      "metadata": {
        "id": "view-in-github",
        "colab_type": "text"
      },
      "source": [
        "<a href=\"https://colab.research.google.com/github/ioanabuze/Data-Engineering_W4/blob/master/Amazon_Review_Weak_Labelling_Function.ipynb\" target=\"_parent\"><img src=\"https://colab.research.google.com/assets/colab-badge.svg\" alt=\"Open In Colab\"/></a>"
      ]
    },
    {
      "cell_type": "markdown",
      "metadata": {
        "id": "nYjmIbwAT-oX",
        "colab_type": "text"
      },
      "source": [
        "## 1. Introduction"
      ]
    },
    {
      "cell_type": "markdown",
      "metadata": {
        "id": "JfR5T5NAT2D9",
        "colab_type": "text"
      },
      "source": [
        "The scope of this project is to use Snorkel DryBell generative approach to produce a set of weak labels for a chosen dataset.\n",
        "\n",
        "The proposed dataset consists of Amazon Consumer Reviews of Amazon Products (Data.world, 2020). The aim is to train a classifier over the review data that can predict whether reviews are positive, negative or neutral. The attitudes of user reviews play an important role in marketing analytics.\n",
        "\n",
        "We have access to both the review text and the review rating for the project. The rating will be removed and kept aside as gold labels so that we can check the accuracy of our work. For training a classifier, we will label the data. However, hand-labelling tens of thousand of data points is generally slow and costly. Therefore, we will use a weak supervision approach using labelling functions in Snorkel. This are noisy, programmatically rules and heuristics that appoint labels to unlabelled training data (Snorkel.org, 2020).\n",
        "\n",
        "The reviews dataset contains a ratings column for each Amazon product, which rates products from 1 (really bad) to 5 (very good). In business, whether the content is positive or negative matters more than the exact rating. Thus, we will look at this rating and tran a model which classifies review text as positive, negative or neutral.\n",
        "\n",
        "As such, two labelling functions will be created to determine whether positive reviews are contained in the last 2 rating tiers, negative reviews are contained in the first two rating tiers and neutral reviews are contained in the third rating tier. The most common positive, negative and neutral words that were identified in the dataset will be used to determine the type of review. These labels will be then used as a basis descriminative model, will be trained to further enhance the model performance and will further be used to evaluate the accuracy of the combination of the models (Medium, 2020a).\n"
      ]
    },
    {
      "cell_type": "markdown",
      "metadata": {
        "colab_type": "text",
        "id": "YVJUDtU4DaBW"
      },
      "source": [
        "## 2. Installing Libraries and Setup"
      ]
    },
    {
      "cell_type": "markdown",
      "metadata": {
        "id": "s86Cvs83UMJi",
        "colab_type": "text"
      },
      "source": [
        "We will start by installing and importing all the necessary libraries (Nltk.org, 2020)."
      ]
    },
    {
      "cell_type": "code",
      "metadata": {
        "colab_type": "code",
        "id": "1jDKaB7F3yJ0",
        "outputId": "7ea2c355-4774-430b-eeff-c140aea4d14d",
        "colab": {
          "base_uri": "https://localhost:8080/",
          "height": 990
        }
      },
      "source": [
        "!pip install snorkel"
      ],
      "execution_count": 0,
      "outputs": [
        {
          "output_type": "stream",
          "text": [
            "Collecting snorkel\n",
            "\u001b[?25l  Downloading https://files.pythonhosted.org/packages/ff/f4/a0e419793075b737f1e86a1642d676dfdb17859887542afa06915136c231/snorkel-0.9.3-py3-none-any.whl (139kB)\n",
            "\u001b[K     |████████████████████████████████| 143kB 3.5MB/s \n",
            "\u001b[?25hCollecting munkres==1.1.2\n",
            "  Downloading https://files.pythonhosted.org/packages/64/97/61ddc63578870e04db6eb1d3bee58ad4e727f682068a7c7405edb8b2cdeb/munkres-1.1.2-py2.py3-none-any.whl\n",
            "Collecting tensorboardX<2.0,>=1.6\n",
            "\u001b[?25l  Downloading https://files.pythonhosted.org/packages/a6/5c/e918d9f190baab8d55bad52840d8091dd5114cc99f03eaa6d72d404503cc/tensorboardX-1.9-py2.py3-none-any.whl (190kB)\n",
            "\u001b[K     |████████████████████████████████| 194kB 48.5MB/s \n",
            "\u001b[?25hCollecting torch<1.2.0,>=1.1.0\n",
            "\u001b[?25l  Downloading https://files.pythonhosted.org/packages/69/60/f685fb2cfb3088736bafbc9bdbb455327bdc8906b606da9c9a81bae1c81e/torch-1.1.0-cp36-cp36m-manylinux1_x86_64.whl (676.9MB)\n",
            "\u001b[K     |████████████████████████████████| 676.9MB 23kB/s \n",
            "\u001b[?25hCollecting scikit-learn<0.22.0,>=0.20.2\n",
            "\u001b[?25l  Downloading https://files.pythonhosted.org/packages/a0/c5/d2238762d780dde84a20b8c761f563fe882b88c5a5fb03c056547c442a19/scikit_learn-0.21.3-cp36-cp36m-manylinux1_x86_64.whl (6.7MB)\n",
            "\u001b[K     |████████████████████████████████| 6.7MB 42.5MB/s \n",
            "\u001b[?25hRequirement already satisfied: numpy<2.0.0,>=1.16.0 in /usr/local/lib/python3.6/dist-packages (from snorkel) (1.17.5)\n",
            "Collecting networkx<2.4,>=2.2\n",
            "\u001b[?25l  Downloading https://files.pythonhosted.org/packages/85/08/f20aef11d4c343b557e5de6b9548761811eb16e438cee3d32b1c66c8566b/networkx-2.3.zip (1.7MB)\n",
            "\u001b[K     |████████████████████████████████| 1.8MB 51.8MB/s \n",
            "\u001b[?25hRequirement already satisfied: pandas<0.26.0,>=0.25.0 in /usr/local/lib/python3.6/dist-packages (from snorkel) (0.25.3)\n",
            "Requirement already satisfied: scipy<2.0.0,>=1.2.0 in /usr/local/lib/python3.6/dist-packages (from snorkel) (1.4.1)\n",
            "Collecting tqdm<5.0.0,>=4.33.0\n",
            "\u001b[?25l  Downloading https://files.pythonhosted.org/packages/47/55/fd9170ba08a1a64a18a7f8a18f088037316f2a41be04d2fe6ece5a653e8f/tqdm-4.43.0-py2.py3-none-any.whl (59kB)\n",
            "\u001b[K     |████████████████████████████████| 61kB 7.7MB/s \n",
            "\u001b[?25hRequirement already satisfied: protobuf>=3.8.0 in /usr/local/lib/python3.6/dist-packages (from tensorboardX<2.0,>=1.6->snorkel) (3.10.0)\n",
            "Requirement already satisfied: six in /usr/local/lib/python3.6/dist-packages (from tensorboardX<2.0,>=1.6->snorkel) (1.12.0)\n",
            "Requirement already satisfied: joblib>=0.11 in /usr/local/lib/python3.6/dist-packages (from scikit-learn<0.22.0,>=0.20.2->snorkel) (0.14.1)\n",
            "Requirement already satisfied: decorator>=4.3.0 in /usr/local/lib/python3.6/dist-packages (from networkx<2.4,>=2.2->snorkel) (4.4.1)\n",
            "Requirement already satisfied: pytz>=2017.2 in /usr/local/lib/python3.6/dist-packages (from pandas<0.26.0,>=0.25.0->snorkel) (2018.9)\n",
            "Requirement already satisfied: python-dateutil>=2.6.1 in /usr/local/lib/python3.6/dist-packages (from pandas<0.26.0,>=0.25.0->snorkel) (2.6.1)\n",
            "Requirement already satisfied: setuptools in /usr/local/lib/python3.6/dist-packages (from protobuf>=3.8.0->tensorboardX<2.0,>=1.6->snorkel) (45.2.0)\n",
            "Building wheels for collected packages: networkx\n",
            "  Building wheel for networkx (setup.py) ... \u001b[?25l\u001b[?25hdone\n",
            "  Created wheel for networkx: filename=networkx-2.3-py2.py3-none-any.whl size=1556408 sha256=e6653106d944aa1c1e5cdf24ae28322e79e94bc22203becfa3d0d71f1d6200dd\n",
            "  Stored in directory: /root/.cache/pip/wheels/de/63/64/3699be2a9d0ccdb37c7f16329acf3863fd76eda58c39c737af\n",
            "Successfully built networkx\n",
            "\u001b[31mERROR: torchvision 0.5.0 has requirement torch==1.4.0, but you'll have torch 1.1.0 which is incompatible.\u001b[0m\n",
            "\u001b[31mERROR: albumentations 0.1.12 has requirement imgaug<0.2.7,>=0.2.5, but you'll have imgaug 0.2.9 which is incompatible.\u001b[0m\n",
            "Installing collected packages: munkres, tensorboardX, torch, scikit-learn, networkx, tqdm, snorkel\n",
            "  Found existing installation: torch 1.4.0\n",
            "    Uninstalling torch-1.4.0:\n",
            "      Successfully uninstalled torch-1.4.0\n",
            "  Found existing installation: scikit-learn 0.22.1\n",
            "    Uninstalling scikit-learn-0.22.1:\n",
            "      Successfully uninstalled scikit-learn-0.22.1\n",
            "  Found existing installation: networkx 2.4\n",
            "    Uninstalling networkx-2.4:\n",
            "      Successfully uninstalled networkx-2.4\n",
            "  Found existing installation: tqdm 4.28.1\n",
            "    Uninstalling tqdm-4.28.1:\n",
            "      Successfully uninstalled tqdm-4.28.1\n",
            "Successfully installed munkres-1.1.2 networkx-2.3 scikit-learn-0.21.3 snorkel-0.9.3 tensorboardX-1.9 torch-1.1.0 tqdm-4.43.0\n"
          ],
          "name": "stdout"
        },
        {
          "output_type": "display_data",
          "data": {
            "application/vnd.colab-display-data+json": {
              "pip_warning": {
                "packages": [
                  "tqdm"
                ]
              }
            }
          },
          "metadata": {
            "tags": []
          }
        }
      ]
    },
    {
      "cell_type": "code",
      "metadata": {
        "id": "aKK5RvJhBe4q",
        "colab_type": "code",
        "outputId": "264ccc90-39d6-436a-8605-0bb3e493b999",
        "colab": {
          "base_uri": "https://localhost:8080/",
          "height": 867
        }
      },
      "source": [
        "import nltk\n",
        "nltk.download(\"popular\")\n",
        "nltk.download('vader_lexicon')\n",
        "nltk.download('brown')"
      ],
      "execution_count": 0,
      "outputs": [
        {
          "output_type": "stream",
          "text": [
            "[nltk_data] Downloading collection 'popular'\n",
            "[nltk_data]    | \n",
            "[nltk_data]    | Downloading package cmudict to /root/nltk_data...\n",
            "[nltk_data]    |   Unzipping corpora/cmudict.zip.\n",
            "[nltk_data]    | Downloading package gazetteers to /root/nltk_data...\n",
            "[nltk_data]    |   Unzipping corpora/gazetteers.zip.\n",
            "[nltk_data]    | Downloading package genesis to /root/nltk_data...\n",
            "[nltk_data]    |   Unzipping corpora/genesis.zip.\n",
            "[nltk_data]    | Downloading package gutenberg to /root/nltk_data...\n",
            "[nltk_data]    |   Unzipping corpora/gutenberg.zip.\n",
            "[nltk_data]    | Downloading package inaugural to /root/nltk_data...\n",
            "[nltk_data]    |   Unzipping corpora/inaugural.zip.\n",
            "[nltk_data]    | Downloading package movie_reviews to\n",
            "[nltk_data]    |     /root/nltk_data...\n",
            "[nltk_data]    |   Unzipping corpora/movie_reviews.zip.\n",
            "[nltk_data]    | Downloading package names to /root/nltk_data...\n",
            "[nltk_data]    |   Unzipping corpora/names.zip.\n",
            "[nltk_data]    | Downloading package shakespeare to /root/nltk_data...\n",
            "[nltk_data]    |   Unzipping corpora/shakespeare.zip.\n",
            "[nltk_data]    | Downloading package stopwords to /root/nltk_data...\n",
            "[nltk_data]    |   Unzipping corpora/stopwords.zip.\n",
            "[nltk_data]    | Downloading package treebank to /root/nltk_data...\n",
            "[nltk_data]    |   Unzipping corpora/treebank.zip.\n",
            "[nltk_data]    | Downloading package twitter_samples to\n",
            "[nltk_data]    |     /root/nltk_data...\n",
            "[nltk_data]    |   Unzipping corpora/twitter_samples.zip.\n",
            "[nltk_data]    | Downloading package omw to /root/nltk_data...\n",
            "[nltk_data]    |   Unzipping corpora/omw.zip.\n",
            "[nltk_data]    | Downloading package wordnet to /root/nltk_data...\n",
            "[nltk_data]    |   Unzipping corpora/wordnet.zip.\n",
            "[nltk_data]    | Downloading package wordnet_ic to /root/nltk_data...\n",
            "[nltk_data]    |   Unzipping corpora/wordnet_ic.zip.\n",
            "[nltk_data]    | Downloading package words to /root/nltk_data...\n",
            "[nltk_data]    |   Unzipping corpora/words.zip.\n",
            "[nltk_data]    | Downloading package maxent_ne_chunker to\n",
            "[nltk_data]    |     /root/nltk_data...\n",
            "[nltk_data]    |   Unzipping chunkers/maxent_ne_chunker.zip.\n",
            "[nltk_data]    | Downloading package punkt to /root/nltk_data...\n",
            "[nltk_data]    |   Unzipping tokenizers/punkt.zip.\n",
            "[nltk_data]    | Downloading package snowball_data to\n",
            "[nltk_data]    |     /root/nltk_data...\n",
            "[nltk_data]    | Downloading package averaged_perceptron_tagger to\n",
            "[nltk_data]    |     /root/nltk_data...\n",
            "[nltk_data]    |   Unzipping taggers/averaged_perceptron_tagger.zip.\n",
            "[nltk_data]    | \n",
            "[nltk_data]  Done downloading collection popular\n",
            "[nltk_data] Downloading package vader_lexicon to /root/nltk_data...\n",
            "[nltk_data] Downloading package brown to /root/nltk_data...\n",
            "[nltk_data]   Unzipping corpora/brown.zip.\n"
          ],
          "name": "stdout"
        },
        {
          "output_type": "execute_result",
          "data": {
            "text/plain": [
              "True"
            ]
          },
          "metadata": {
            "tags": []
          },
          "execution_count": 2
        }
      ]
    },
    {
      "cell_type": "code",
      "metadata": {
        "id": "fhOIES1z69GO",
        "colab_type": "code",
        "outputId": "bdd64df6-8a17-4338-f684-1884b91ee8d8",
        "colab": {
          "base_uri": "https://localhost:8080/",
          "height": 343
        }
      },
      "source": [
        " # pyspark setup\n",
        "\n",
        "!pip install pyspark\n",
        "# Load the Drive helper and mount\n",
        "from google.colab import drive\n",
        "\n",
        "# This will prompt for authorization.\n",
        "drive.mount(\"/content/drive\")"
      ],
      "execution_count": 0,
      "outputs": [
        {
          "output_type": "stream",
          "text": [
            "Collecting pyspark\n",
            "\u001b[?25l  Downloading https://files.pythonhosted.org/packages/9a/5a/271c416c1c2185b6cb0151b29a91fff6fcaed80173c8584ff6d20e46b465/pyspark-2.4.5.tar.gz (217.8MB)\n",
            "\u001b[K     |████████████████████████████████| 217.8MB 64kB/s \n",
            "\u001b[?25hCollecting py4j==0.10.7\n",
            "\u001b[?25l  Downloading https://files.pythonhosted.org/packages/e3/53/c737818eb9a7dc32a7cd4f1396e787bd94200c3997c72c1dbe028587bd76/py4j-0.10.7-py2.py3-none-any.whl (197kB)\n",
            "\u001b[K     |████████████████████████████████| 204kB 46.2MB/s \n",
            "\u001b[?25hBuilding wheels for collected packages: pyspark\n",
            "  Building wheel for pyspark (setup.py) ... \u001b[?25l\u001b[?25hdone\n",
            "  Created wheel for pyspark: filename=pyspark-2.4.5-py2.py3-none-any.whl size=218257927 sha256=199d4e47394f26f1f3ac897412bf68fffa0d9add2399c6a4aba44bfbe9bae373\n",
            "  Stored in directory: /root/.cache/pip/wheels/bf/db/04/61d66a5939364e756eb1c1be4ec5bdce6e04047fc7929a3c3c\n",
            "Successfully built pyspark\n",
            "Installing collected packages: py4j, pyspark\n",
            "Successfully installed py4j-0.10.7 pyspark-2.4.5\n",
            "Go to this URL in a browser: https://accounts.google.com/o/oauth2/auth?client_id=947318989803-6bn6qk8qdgf4n4g3pfee6491hc0brc4i.apps.googleusercontent.com&redirect_uri=urn%3aietf%3awg%3aoauth%3a2.0%3aoob&response_type=code&scope=email%20https%3a%2f%2fwww.googleapis.com%2fauth%2fdocs.test%20https%3a%2f%2fwww.googleapis.com%2fauth%2fdrive%20https%3a%2f%2fwww.googleapis.com%2fauth%2fdrive.photos.readonly%20https%3a%2f%2fwww.googleapis.com%2fauth%2fpeopleapi.readonly\n",
            "\n",
            "Enter your authorization code:\n",
            "··········\n",
            "Mounted at /content/drive\n"
          ],
          "name": "stdout"
        }
      ]
    },
    {
      "cell_type": "code",
      "metadata": {
        "id": "zHPuP-y8IAT1",
        "colab_type": "code",
        "outputId": "d17f7b2d-01e8-45be-ba8a-e5ea749af30a",
        "colab": {
          "base_uri": "https://localhost:8080/",
          "height": 34
        }
      },
      "source": [
        "#Setup the correct path\n",
        "cd \"/content/drive/My Drive/Colab Notebooks/Data Engineering Group Project\""
      ],
      "execution_count": 0,
      "outputs": [
        {
          "output_type": "stream",
          "text": [
            "/content/drive/My Drive/Colab Notebooks/Data Engineering Group Project\n"
          ],
          "name": "stdout"
        }
      ]
    },
    {
      "cell_type": "code",
      "metadata": {
        "id": "m3eDugwl6Ae0",
        "colab_type": "code",
        "colab": {}
      },
      "source": [
        "from snorkel.labeling.apply.spark import SparkLFApplier\n",
        "from snorkel.labeling import MajorityLabelVoter\n",
        "from snorkel.labeling import labeling_function, LFAnalysis, LabelModel, PandasLFApplier\n",
        "from snorkel.preprocess import preprocessor\n",
        "from snorkel.labeling import filter_unlabeled_dataframe\n",
        "from sklearn.feature_extraction.text import CountVectorizer\n",
        "from sklearn.linear_model import LogisticRegression\n",
        "\n",
        "from nltk.corpus import stopwords\n",
        "from nltk.stem import WordNetLemmatizer\n",
        "from nltk.sentiment.vader import SentimentIntensityAnalyzer\n",
        "from nltk.tokenize import word_tokenize\n",
        "\n",
        "import nltk\n",
        "import re\n",
        "import string\n",
        "import spacy\n",
        "\n",
        "from functools import reduce\n",
        "from wordcloud import WordCloud\n",
        "from textblob import TextBlob \n",
        "import pyspark.sql.functions as f\n",
        "from textblob import TextBlob\n",
        "\n",
        "import matplotlib.pyplot as plt \n",
        "import pandas as pd\n",
        "import numpy as np\n",
        "import seaborn as sns\n",
        "\n",
        "from sklearn import metrics\n",
        "from sklearn.model_selection import train_test_split\n",
        "from pyspark.ml.tuning import ParamGridBuilder, TrainValidationSplit\n",
        "\n",
        "from snorkel.utils import probs_to_preds"
      ],
      "execution_count": 0,
      "outputs": []
    },
    {
      "cell_type": "code",
      "metadata": {
        "id": "Z4WyXelAFVKr",
        "colab_type": "code",
        "colab": {}
      },
      "source": [
        "import os \n",
        "!apt-get install openjdk-8-jdk-headless -qq > /dev/null\n",
        "\n",
        "COLAB_NOTEBOOKS_DATA_PATH=\"/content/drive/My Drive/Colab Notebooks/Data Engineering Group Project\"\n",
        "SPARK_ARCHIVE='spark-2.4.5-bin-hadoop2.7.tgz'\n",
        "if SPARK_ARCHIVE not in os.listdir(COLAB_NOTEBOOKS_DATA_PATH):\n",
        "  !wget -q https://archive.apache.org/dist/spark/spark-2.4.5/spark-2.4.5-bin-hadoop2.7.tgz\n",
        "\n",
        "SPARK_ARTIFACTS='spark-2.4.5-bin-hadoop2.7'\n",
        "if SPARK_ARTIFACTS not in os.listdir(COLAB_NOTEBOOKS_DATA_PATH):\n",
        "  !tar xf spark-2.4.5-bin-hadoop2.7.tgz\n",
        "\n",
        "!pip install -q findspark"
      ],
      "execution_count": 0,
      "outputs": []
    },
    {
      "cell_type": "code",
      "metadata": {
        "id": "PtuZl1uJFXv_",
        "colab_type": "code",
        "colab": {}
      },
      "source": [
        "os.environ[\"JAVA_HOME\"] = \"/usr/lib/jvm/java-8-openjdk-amd64\"\n",
        "os.environ[\"SPARK_HOME\"] = \"/content/drive/My Drive/Colab Notebooks/Data Engineering Group Project/spark-2.4.5-bin-hadoop2.7\""
      ],
      "execution_count": 0,
      "outputs": []
    },
    {
      "cell_type": "code",
      "metadata": {
        "id": "xK542RQE7nIc",
        "colab_type": "code",
        "colab": {}
      },
      "source": [
        "!apt-get install openjdk-8-jdk-headless -qq > /dev/null\n",
        "!wget -q https://archive.apache.org/dist/spark/spark-2.4.5/spark-2.4.5-bin-hadoop2.7.tgz\n",
        "!tar xf spark-2.4.5-bin-hadoop2.7.tgz\n",
        "!pip install -q findspark\n",
        "\n",
        "import findspark\n",
        "findspark.init()\n",
        "\n",
        "import pyspark\n",
        "from pyspark.sql import SQLContext"
      ],
      "execution_count": 0,
      "outputs": []
    },
    {
      "cell_type": "code",
      "metadata": {
        "id": "Gw-_1B8tJAU-",
        "colab_type": "code",
        "colab": {}
      },
      "source": [
        "sc = pyspark.SparkContext.getOrCreate()\n",
        "sqlContext = SQLContext(sc)"
      ],
      "execution_count": 0,
      "outputs": []
    },
    {
      "cell_type": "markdown",
      "metadata": {
        "id": "sC66Uct0W3UG",
        "colab_type": "text"
      },
      "source": [
        "## 3. Load Data"
      ]
    },
    {
      "cell_type": "markdown",
      "metadata": {
        "id": "7vLqMLD-U_ls",
        "colab_type": "text"
      },
      "source": [
        "Due to the issue of this csv file, we load the Amazon reviews into pandas. We make a subset of our DataFrame using pandas and keep only the columns we need. We also rename the columns: \"reviews.rating\" to \"reviews_rating\" and \"reviews.text\" to \"reviews_text\" for selecting them in SparkSQL. Then, we convert the pandas DataFrame to a Spark DataFrame which we finally convert to a Spark Resilient Distributed Datasets (RDD)."
      ]
    },
    {
      "cell_type": "code",
      "metadata": {
        "id": "K9j0D3PY35dj",
        "colab_type": "code",
        "colab": {}
      },
      "source": [
        "# Load the Data\n",
        "\n",
        "# Switch this back to Spark once we figure out the CSV formatting issue\n",
        "amazon_reviews_dataset_pd_df = pd.read_csv(\"/content/drive/My Drive/Colab Notebooks/Data Engineering Group Project/Datafiniti_Amazon_Consumer_Reviews_of_Amazon_Products.csv\")\n",
        "amazon_reviews_dataset_pd_df = pd.concat([amazon_reviews_dataset_pd_df['reviews.rating'],amazon_reviews_dataset_pd_df['reviews.text']], axis=1)\n",
        "amazon_reviews_dataset_pd_df = amazon_reviews_dataset_pd_df.dropna()\n",
        "amazon_reviews_dataset_pd_df.rename(columns={\"reviews.rating\": \"reviews_rating\", \"reviews.text\": \"reviews_text\"}, inplace=True)\n",
        "amazon_reviews_dataset_pd_df\n",
        "\n",
        "# Convert pandas DF to spark dataframe\n",
        "amazon_reviews_dataset_sql_context = sqlContext.createDataFrame(amazon_reviews_dataset_pd_df)\n",
        "amazon_reviews_dataset_sql_context = amazon_reviews_dataset_sql_context.dropna(subset=[\"reviews_rating\", \"reviews_text\"])\n",
        "\n",
        "# Convert spark dataframe to RDD\n",
        "amazon_reviews_dataset_rdd = amazon_reviews_dataset_sql_context.rdd"
      ],
      "execution_count": 0,
      "outputs": []
    },
    {
      "cell_type": "markdown",
      "metadata": {
        "id": "0RxBWfiHWHBb",
        "colab_type": "text"
      },
      "source": [
        "We need to create a temporary view in order to manipulate the data using SQL queries. To go further, we will be spliting the review text by review/levels, these will be the basis for learning information about the data that can be used for creating heuristics for our labeling functions."
      ]
    },
    {
      "cell_type": "code",
      "metadata": {
        "colab_type": "code",
        "id": "LNgg_4G76PvT",
        "colab": {}
      },
      "source": [
        " # Temp view for maniputing the data using SQL queries\n",
        "amazon_reviews_dataset_sql_context.createOrReplaceTempView('amazon_reviews')\n",
        "\n",
        "amazon_reviews_level1 = sqlContext.sql(\"SELECT reviews_text FROM amazon_reviews where reviews_rating == 1\")\n",
        "amazon_reviews_level2 = sqlContext.sql(\"SELECT reviews_text FROM amazon_reviews where reviews_rating == 2\")\n",
        "amazon_reviews_level3 = sqlContext.sql(\"SELECT reviews_text FROM amazon_reviews where reviews_rating == 3\")\n",
        "amazon_reviews_level4 = sqlContext.sql(\"SELECT reviews_text FROM amazon_reviews where reviews_rating == 4\")\n",
        "amazon_reviews_level5 = sqlContext.sql(\"SELECT reviews_text FROM amazon_reviews where reviews_rating == 5\")"
      ],
      "execution_count": 0,
      "outputs": []
    },
    {
      "cell_type": "markdown",
      "metadata": {
        "id": "BfXHqbg6XGqZ",
        "colab_type": "text"
      },
      "source": [
        "## 4. Exploratory Data Analysis "
      ]
    },
    {
      "cell_type": "markdown",
      "metadata": {
        "id": "f9T_CNAm7WQ9",
        "colab_type": "text"
      },
      "source": [
        "The exploratory analysis was performed on Pandas DataFrames in order to leverage the variety and flexibility of the libraries when looking for insights.  "
      ]
    },
    {
      "cell_type": "markdown",
      "metadata": {
        "id": "WmG0qCtvXl1Y",
        "colab_type": "text"
      },
      "source": [
        "**Class inbalance**\n",
        "\n",
        "By looking at the total number of reviews per rating, one can observe that almost 70% of the reviews have a rating of 5 stars, and 24% of 4 stars rating, whereas only 1-3% for 1, 2 and 3 stars rating. Therefore, this leads to signifficant class inbalance."
      ]
    },
    {
      "cell_type": "code",
      "metadata": {
        "id": "cvntj4szXiw2",
        "colab_type": "code",
        "outputId": "42002c8e-4d7e-412b-d114-113e6f4e932e",
        "colab": {
          "base_uri": "https://localhost:8080/",
          "height": 397
        }
      },
      "source": [
        "ratings = amazon_reviews_dataset_pd_df['reviews_rating'].value_counts().sort_values(ascending=True ) \n",
        "print(amazon_reviews_dataset_pd_df['reviews_rating'].value_counts(normalize=True).sort_values(ascending=False ).map(lambda x: x*100).round(2).astype(str) + '%')\n",
        "objects = ratings.keys() \n",
        "y_pos = np.arange(len(objects)) \n",
        "rating_values = ratings.values \n",
        "plt.barh(y_pos, rating_values, align='center', alpha=0.5, color = \"midnightblue\") \n",
        "plt.yticks(y_pos, objects) \n",
        "plt.xlabel('Number of Occurrences') \n",
        "plt.title('Rating Frequency') \n",
        "plt.show()"
      ],
      "execution_count": 0,
      "outputs": [
        {
          "output_type": "stream",
          "text": [
            "5    0.6956\n",
            "4    0.2416\n",
            "3    0.0394\n",
            "1    0.0126\n",
            "2    0.0108\n",
            "Name: reviews_rating, dtype: float64\n"
          ],
          "name": "stdout"
        },
        {
          "output_type": "display_data",
          "data": {
            "image/png": "[encoded data removed]",
            "text/plain": [
              "<Figure size 432x288 with 1 Axes>"
            ]
          },
          "metadata": {
            "tags": []
          }
        }
      ]
    },
    {
      "cell_type": "markdown",
      "metadata": {
        "id": "vzC2OEUHXU6L",
        "colab_type": "text"
      },
      "source": [
        "**Most frequent words**\n",
        "\n",
        "We will now step into exploring the dataset for initial ideas.\n",
        "\n",
        "Because frequent words appearing in the reviews do not contribute to sentimential analysis, such as stop words (Dataquest, 2020), we will only look for **adjectives**.\n",
        "\n",
        "We find the most frequent adjectives (A Data Analyst, 2020; Medium, 2020b) and show the result using wordcloud(python and S, 2020).\n"
      ]
    },
    {
      "cell_type": "code",
      "metadata": {
        "id": "Xa29C0Pq3ZBK",
        "colab_type": "code",
        "colab": {}
      },
      "source": [
        "# Create functions to return top 15 words by frequency \n",
        "\n",
        "# The find tags function takes a Part of Speech parameter and a text\n",
        "# and returns a dictionary of the top 15 occurrences of that part of speech along with the number of occurrences of each word\n",
        "def findtags(tag_prefix, tagged_text):\n",
        "    cfd = nltk.ConditionalFreqDist((tag, word) for (word, tag) in tagged_text\n",
        "                                  if tag.startswith(tag_prefix))\n",
        "    return dict((tag, cfd[tag].most_common(15)) for tag in cfd.conditions())\n",
        "\n",
        "# essentially uses the the find tags function to find our top fifteen adjectives in a text, sort it\n",
        "# and return as a list\n",
        "def top15_frequent_adjectives(txt):\n",
        "  tagdict = findtags('JJ', nltk.pos_tag(txt))\n",
        "  list_with_words = []\n",
        "  for tag in sorted(tagdict):\n",
        "    for othertag in tagdict[tag]:\n",
        "      list_with_words.append(othertag)\n",
        "  return(list_with_words)\n",
        "\n",
        "# Function that creates wordclouds to visualise the most frequent words\n",
        "def wondcloud_func(df):\n",
        "  d = {}\n",
        "  for a, x in df:\n",
        "    d[a] = x\n",
        "  wordcloud = WordCloud()\n",
        "  wordcloud.generate_from_frequencies(frequencies=d)\n",
        "  plt.figure()\n",
        "  plt.imshow(wordcloud, interpolation=\"bilinear\")\n",
        "  plt.axis(\"off\")\n",
        "  plt.show()"
      ],
      "execution_count": 0,
      "outputs": []
    },
    {
      "cell_type": "markdown",
      "metadata": {
        "id": "w8YefSpGaOkf",
        "colab_type": "text"
      },
      "source": [
        "We apply the above function to all the review levels. This is done to determine the most common positive, negative and neutral adjectives in each review level. This words will be used to create our labelling functions.\n",
        "\n",
        "For each review level which will be later categorized as negative, the most common adjectives are the following:"
      ]
    },
    {
      "cell_type": "code",
      "metadata": {
        "id": "qPVvyGmbdZJd",
        "colab_type": "code",
        "outputId": "b5235336-32ad-4a05-8853-55552be8a6f2",
        "colab": {
          "base_uri": "https://localhost:8080/",
          "height": 215
        }
      },
      "source": [
        "txt1 = word_tokenize(' '.join(row.reviews_text for row in amazon_reviews_level1.select('reviews_text').collect()))\n",
        "txt2 = word_tokenize(' '.join(row.reviews_text for row in amazon_reviews_level2.select('reviews_text').collect()))\n",
        "txt3 = word_tokenize(' '.join(row.reviews_text for row in amazon_reviews_level3.select('reviews_text').collect()))\n",
        "txt4 = word_tokenize(' '.join(row.reviews_text for row in amazon_reviews_level4.select('reviews_text').collect()))\n",
        "txt5 = word_tokenize(' '.join(row.reviews_text for row in amazon_reviews_level5.select('reviews_text').collect()))\n",
        "\n",
        "list_with_texts = [txt1, txt2, txt3, txt4, txt5]\n",
        "\n",
        "fig = plt.figure(figsize=(18,8))\n",
        "\n",
        "countt = 1 \n",
        "\n",
        "for text in list_with_texts:\n",
        "  ax = fig.add_subplot(2,3,countt)\n",
        "  wordcloud = wondcloud_func(top15_frequent_adjectives(text))\n",
        "  ax.imshow(wordcloud, interpolation=\"bilinear\")\n",
        "  title_name = \"15 Most Frequent words in Rating \" + str(countt)\n",
        "  ax.set_title(title_name)\n",
        "  countt+=1\n",
        "  ax.axis('off')\n"
      ],
      "execution_count": 0,
      "outputs": [
        {
          "output_type": "stream",
          "text": [
            "Top 15 adjectives for Review Level 1\n"
          ],
          "name": "stdout"
        },
        {
          "output_type": "display_data",
          "data": {
            "image/png": "[encoded data removed]",
            "text/plain": [
              "<Figure size 432x288 with 1 Axes>"
            ]
          },
          "metadata": {
            "tags": []
          }
        }
      ]
    },
    {
      "cell_type": "markdown",
      "metadata": {
        "id": "Cuni2PMg8WZJ",
        "colab_type": "text"
      },
      "source": [
        "The above wordclouds look at the most frequent adjectives used in the text reviews. For our labelling functions we will use these words as guidance for categorising the positive, negative and neutral reviews. Surprisingly, there is a vast amount of words which are frequently used in more than one category, such as “great”, “good”, “old”. However, their occurrence in intuitively “the wrong categories” should not be surprising, because this analysis does not include any other phrasing components, such as verbs or negations. Therefore, we cannot draw certain analytical conclusions based on them, however, we must use them as guidance for our intuition when creating the weak labelling.\n",
        "\n"
      ]
    },
    {
      "cell_type": "markdown",
      "metadata": {
        "id": "VEtxxMSBdPwF",
        "colab_type": "text"
      },
      "source": [
        "## 5. Writing Labeling Functions (LFs)"
      ]
    },
    {
      "cell_type": "markdown",
      "metadata": {
        "id": "xBPOTWWJamwL",
        "colab_type": "text"
      },
      "source": [
        "We will now move forward with our analysis to splitting the data into two subsets:\n",
        "\n",
        "<b>Training Set:</b> this will contain the largest amount of data points from the dataset; for which we will create labels through weak supervision.\n",
        "\n",
        "<b>Test Set:</b> this will contain only a standard, small hold-out blind hand-labeled set; which will be used for final evaluation of our classifier.\n",
        "\n",
        "80% of our reviews are combined to create the train set, while 20% of our reviews are combined to create the test set."
      ]
    },
    {
      "cell_type": "code",
      "metadata": {
        "id": "ykl4Po1tjf5l",
        "colab_type": "code",
        "colab": {}
      },
      "source": [
        "# Train/Test Split - 80/20 \n",
        "df_train, df_test = amazon_reviews_dataset_rdd.randomSplit([0.8, 0.2], seed=42)\n",
        "\n",
        "# Code to convert our y_test values into positive/negative and neutral and convert it to series, as input for the \n",
        "#accuracy comparision later as the Majority Accuaracy function needs input as numpy. \n",
        "\n",
        "Y_test = df_test.toDF()\n",
        "Y_test = Y_test.toPandas()\n",
        "\n",
        "Y_test.loc[Y_test['reviews_rating'] == 1, 'reviews_rating'] = 0\n",
        "Y_test.loc[Y_test['reviews_rating'] == 2, 'reviews_rating'] = 0\n",
        "Y_test.loc[Y_test['reviews_rating'] == 3, 'reviews_rating'] = 2\n",
        "Y_test.loc[Y_test['reviews_rating'] == 4, 'reviews_rating'] = 1\n",
        "Y_test.loc[Y_test['reviews_rating'] == 5, 'reviews_rating'] = 1\n",
        "\n",
        "Y_test = Y_test['reviews_rating']"
      ],
      "execution_count": 0,
      "outputs": []
    },
    {
      "cell_type": "markdown",
      "metadata": {
        "id": "rIpjxfzf20Er",
        "colab_type": "text"
      },
      "source": [
        "The main aim for developing labelling functions is to develop a high quality set of training labels for the Amazon reviews dataset which is unlabelled. The labels for the training set are utilized to train a different discriminative model. This is done in order to generalize to novel, unseen data points. By utilizing this model, we will be able to create certain predictions for the data points that are not covered by our labelling functions.\n",
        "\n",
        "First, we define constants to represent the class labels for negative, positive and neutral reviews(GitHub, 2020)."
      ]
    },
    {
      "cell_type": "markdown",
      "metadata": {
        "id": "fEe07rua6Xx4",
        "colab_type": "text"
      },
      "source": [
        "We define constants to represent the class labels for: \n",
        "\n",
        "- NEGATIVE = 0\n",
        "- POSITIVE = 1\n",
        "- NEUTRAL = 2\n",
        "- ABSTAIN = -1"
      ]
    },
    {
      "cell_type": "code",
      "metadata": {
        "id": "-o2-y2ty424M",
        "colab_type": "code",
        "colab": {}
      },
      "source": [
        "# Set voting values\n",
        "\n",
        "NEGATIVE = 0\n",
        "POSITIVE = 1\n",
        "NEUTRAL = 2\n",
        "\n",
        "ABSTAIN = -1"
      ],
      "execution_count": 0,
      "outputs": []
    },
    {
      "cell_type": "markdown",
      "metadata": {
        "id": "KgMObXZYnZQz",
        "colab_type": "text"
      },
      "source": [
        "Based on our analysis above, we identified the most frequent adjectives when giving different reviews. To be noticed that because of the words popularity in multiple categories, we used a “rule of thumb” when choosing which words better describe a certain category. Therefore, we decided upon the following words for the labeling function."
      ]
    },
    {
      "cell_type": "code",
      "metadata": {
        "id": "bweWoy1H8nyZ",
        "colab_type": "code",
        "colab": {}
      },
      "source": [
        "ReviewNEGATIVE =  r\"(same|old|bad|slow|terrible|unable|few|worse|less|worse|limited)\"\n",
        "\n",
        "\n",
        "ReviewNEUTRAL = r\"(ok|fine)\" \n",
        "\n",
        "\n",
        "ReviewPOSITIVE = r\"(great|good|easy|reliable|nice|new|perfect|better|happy)\" \n"
      ],
      "execution_count": 0,
      "outputs": []
    },
    {
      "cell_type": "markdown",
      "metadata": {
        "id": "rqks4N3H3Lkg",
        "colab_type": "text"
      },
      "source": [
        "We will now write labelling functions to determine whether positive reviews are contained in the last two rating tiers, negative reviews are contained in the first two rating tiers and neutral reviews are contained in the third tier."
      ]
    },
    {
      "cell_type": "code",
      "metadata": {
        "id": "quBC7a06tIFf",
        "colab_type": "code",
        "colab": {}
      },
      "source": [
        "# labelling functions based off specific words\n",
        "@labeling_function()\n",
        "def review_NEGATIVE(x):\n",
        "      return NEGATIVE if re.search(ReviewNEGATIVE, x.reviews_text.lower()) else ABSTAIN\n",
        "\n",
        "@labeling_function()\n",
        "def review_NEUTRAL(x):\n",
        "    return NEUTRAL if re.search(ReviewNEUTRAL, x.reviews_text.lower()) else ABSTAIN\n",
        "\n",
        "@labeling_function()\n",
        "def review_POSITIVE(x):\n",
        "    return POSITIVE if re.search(ReviewPOSITIVE, x.reviews_text.lower()) else ABSTAIN"
      ],
      "execution_count": 0,
      "outputs": []
    },
    {
      "cell_type": "markdown",
      "metadata": {
        "id": "Bew4f-8t5CKN",
        "colab_type": "text"
      },
      "source": [
        "## 6. Writing More Labeling Functions"
      ]
    },
    {
      "cell_type": "markdown",
      "metadata": {
        "id": "z8hx_87Ryv4k",
        "colab_type": "text"
      },
      "source": [
        "The next heuristic that we are looking at is the number of word that the unhappy customers write to understand if there is a significant difference \n",
        "between our five rating levels."
      ]
    },
    {
      "cell_type": "code",
      "metadata": {
        "id": "wpDISPqpYpC4",
        "colab_type": "code",
        "outputId": "22fc879d-dd3b-490d-9655-1c05c026db2e",
        "colab": {
          "base_uri": "https://localhost:8080/",
          "height": 282
        }
      },
      "source": [
        "def get_avg_wordcount(DF):\n",
        "  df = DF.withColumn('wordCount', f.size(f.split(f.col('reviews_text'), ' ')))\n",
        "  totalwords = df.groupBy().sum().collect()[0][0]\n",
        "  colcount = DF.count()\n",
        "  avgwordcount = totalwords/colcount\n",
        "  return avgwordcount\n",
        "\n",
        "pandD = pd.DataFrame(data = [get_avg_wordcount(amazon_reviews_level1),\n",
        "                             get_avg_wordcount(amazon_reviews_level2),\n",
        "                             get_avg_wordcount(amazon_reviews_level3),\n",
        "                             get_avg_wordcount(amazon_reviews_level4),\n",
        "                             get_avg_wordcount(amazon_reviews_level5)], columns=['Average Word Count'], index=['1 Star Reviews',\n",
        "                                                                                                              '2 Star Reviews',\n",
        "                                                                                                              '3 Star Reviews',\n",
        "                                                                                                              '4 Star Reviews',\n",
        "                                                                                                              '5 Star Reviews'])\n",
        "                             \n",
        "pandD.plot.barh(figsize=(20,4))"
      ],
      "execution_count": 0,
      "outputs": [
        {
          "output_type": "execute_result",
          "data": {
            "text/plain": [
              "<matplotlib.axes._subplots.AxesSubplot at 0x7fc13f3b3908>"
            ]
          },
          "metadata": {
            "tags": []
          },
          "execution_count": 130
        },
        {
          "output_type": "display_data",
          "data": {
            "image/png": "[encoded data removed]",
            "text/plain": [
              "<Figure size 1440x288 with 1 Axes>"
            ]
          },
          "metadata": {
            "tags": []
          }
        }
      ]
    },
    {
      "cell_type": "code",
      "metadata": {
        "id": "Y3erIVMVYxPu",
        "colab_type": "code",
        "outputId": "0d6fdcd9-4d8d-48c2-ef51-395e3b5d608e",
        "colab": {
          "base_uri": "https://localhost:8080/",
          "height": 638
        }
      },
      "source": [
        "am_rev_wordcount1= amazon_reviews_level1.withColumn('wordCount', f.size(f.split(f.col('reviews_text'), ' '))).select('wordcount').toPandas()\n",
        "am_rev_wordcount2= amazon_reviews_level2.withColumn('wordCount', f.size(f.split(f.col('reviews_text'), ' '))).select('wordcount').toPandas()\n",
        "am_rev_wordcount3= amazon_reviews_level3.withColumn('wordCount', f.size(f.split(f.col('reviews_text'), ' '))).select('wordcount').toPandas()\n",
        "am_rev_wordcount4= amazon_reviews_level4.withColumn('wordCount', f.size(f.split(f.col('reviews_text'), ' '))).select('wordcount').toPandas()\n",
        "am_rev_wordcount5= amazon_reviews_level5.withColumn('wordCount', f.size(f.split(f.col('reviews_text'), ' '))).select('wordcount').toPandas()\n",
        "\n",
        "figuresssss, axes = plt.subplots(2, 3, figsize=(20, 10), sharex=True)\n",
        "sns.despine(left=True)\n",
        "\n",
        "# Plot a simple histogram with binsize determined automatically\n",
        "sns.distplot(am_rev_wordcount1['wordcount'], bins=30, kde=True, ax=axes[0, 0])\n",
        "sns.distplot(am_rev_wordcount2['wordcount'], bins=30, kde=True, ax=axes[0, 1])\n",
        "sns.distplot(am_rev_wordcount3['wordcount'], bins=30, kde=True, ax=axes[0, 2])\n",
        "sns.distplot(am_rev_wordcount4['wordcount'], bins=30, kde=True, ax=axes[1, 0])\n",
        "sns.distplot(am_rev_wordcount5['wordcount'], bins=30, kde=True, ax=axes[1, 1])\n",
        "axes[0, 0].set_title(\"Rating 1 Distribution\")\n",
        "axes[0, 1].set_title(\"Rating 2 Distribution\")\n",
        "axes[0, 2].set_title(\"Rating 3 Distribution\")\n",
        "axes[1, 0].set_title(\"Rating 4 Distribution\")\n",
        "axes[1, 1].set_title(\"Rating 5 Distribution\")\n",
        "plt.xlim(0, 125)"
      ],
      "execution_count": 0,
      "outputs": [
        {
          "output_type": "execute_result",
          "data": {
            "text/plain": [
              "(0, 125)"
            ]
          },
          "metadata": {
            "tags": []
          },
          "execution_count": 131
        },
        {
          "output_type": "display_data",
          "data": {
            "image/png": "[encoded data removed]",
            "text/plain": [
              "<Figure size 1440x720 with 6 Axes>"
            ]
          },
          "metadata": {
            "tags": []
          }
        }
      ]
    },
    {
      "cell_type": "markdown",
      "metadata": {
        "id": "d_ClPzPByRKn",
        "colab_type": "text"
      },
      "source": [
        "What clearly stands out with these graphs is that people that write 5 star reviews for example tend to use less words. On average 5 star reviews are composed of 30 words whilst 1 star reviews possess around 55+.  That can logically be explained. When customer are satisfied less words are needed. A simple “great” , “fantastique product” is enough. However, When customers are not satisfied with the product, they will explain their issue and why they dislike the product hens the longer reviews. \n",
        "\n",
        "Another point highlighted in the graphs is an overlapping issue. We will have to be careful when setting  the word count for our  labelling function to capture a maximum of positive and negative reviews. However because of the overlapping, some reviews will be miss-matched if we would only use this labelling function."
      ]
    },
    {
      "cell_type": "code",
      "metadata": {
        "id": "Qs8XxpIVwqJa",
        "colab_type": "code",
        "colab": {}
      },
      "source": [
        "@labeling_function()\n",
        "def pos_string_length(x):\n",
        "  return POSITIVE if len(x.reviews_text.split()) <= 30 else ABSTAIN"
      ],
      "execution_count": 0,
      "outputs": []
    },
    {
      "cell_type": "code",
      "metadata": {
        "id": "1zeKr0VfWfTV",
        "colab_type": "code",
        "colab": {}
      },
      "source": [
        "@labeling_function()\n",
        "def neg_string_length(x):\n",
        "  return NEGATIVE if len(x.reviews_text.split()) >= 40 else ABSTAIN"
      ],
      "execution_count": 0,
      "outputs": []
    },
    {
      "cell_type": "markdown",
      "metadata": {
        "id": "7YdePihg9ll7",
        "colab_type": "text"
      },
      "source": [
        "We will now move forward with out analysis and start writting a labelling function that uses a third-party model. For this, we will use the TextBlob tool which supplies a pretrained sentiment analyzer (Textblob.readthedocs.io, 2020). The function looks at the amount of feelings based on the text itself. It is believed to bring more accuracy in voting, as it looks at the overall context of the review. \n",
        "\n",
        "First, we develope a function that runs TextBlob on our review comments and obtains the polarity scores."
      ]
    },
    {
      "cell_type": "code",
      "metadata": {
        "id": "l2T1avrdGU57",
        "colab_type": "code",
        "colab": {}
      },
      "source": [
        "def getSentiment(text):\n",
        "    x = {}\n",
        "    x[\"polarity\"] = TextBlob(text).sentiment.polarity\n",
        "    x[\"subjectivity\"] = TextBlob(text).sentiment.subjectivity \n",
        "    return x"
      ],
      "execution_count": 0,
      "outputs": []
    },
    {
      "cell_type": "markdown",
      "metadata": {
        "id": "-7cNt0AA9sQ_",
        "colab_type": "text"
      },
      "source": [
        "Then, we create a labelling function to identify if:\n",
        "\n",
        "- Positive reviews have a polarity score of 0.2 or above;\n",
        "- Neutral reviews have a polarity score of -0.2 or above;\n",
        "- Negative reviews have a polarity score of less than 0.2."
      ]
    },
    {
      "cell_type": "code",
      "metadata": {
        "id": "CpKZLCCH_Bsh",
        "colab_type": "code",
        "colab": {}
      },
      "source": [
        "@labeling_function()\n",
        "def textblob_polarity(x):\n",
        "    x = getSentiment(x.reviews_text)\n",
        "\n",
        "    if x[\"polarity\"] >= 0.2:\n",
        "      return POSITIVE \n",
        "    if x[\"polarity\"] >= -0.2:\n",
        "      return NEUTRAL\n",
        "    if x[\"polarity\"] < -0.2:\n",
        "      return NEGATIVE\n",
        "    else:\n",
        "      return ABSTAIN"
      ],
      "execution_count": 0,
      "outputs": []
    },
    {
      "cell_type": "markdown",
      "metadata": {
        "id": "KtLrftqKZvVq",
        "colab_type": "text"
      },
      "source": [
        "## 7. Labelling, Analysis and Accuracy"
      ]
    },
    {
      "cell_type": "markdown",
      "metadata": {
        "id": "io0vW47x-Dge",
        "colab_type": "text"
      },
      "source": [
        "We must now use the LabelModel to programmatically learn to combine our labelling functions' outputs into strong probabilistic labels. After analyzing different combinations of the previously labelling functions, we decided to keep the combination of labelling functions that in the end gave us the best accuracy score."
      ]
    },
    {
      "cell_type": "code",
      "metadata": {
        "id": "7Ax1XLGMHljJ",
        "colab_type": "code",
        "colab": {}
      },
      "source": [
        "# Kept the the combination of lablling functions that give us the best accuracy score\n",
        "labelingfunctions = [review_NEUTRAL, review_POSITIVE, textblob_polarity, pos_string_length]"
      ],
      "execution_count": 0,
      "outputs": []
    },
    {
      "cell_type": "markdown",
      "metadata": {
        "id": "xZKi_7gI-HwM",
        "colab_type": "text"
      },
      "source": [
        "To apply the combination of labelling functions to the collection of data points, we need to use an LFApplier. In this case, we used the SparkLFApplier because our data points are represented with a RDD."
      ]
    },
    {
      "cell_type": "code",
      "metadata": {
        "id": "WUomMy74DpzW",
        "colab_type": "code",
        "colab": {}
      },
      "source": [
        "applier = SparkLFApplier(lfs=labelingfunctions)\n",
        "\n",
        "L_train = applier.apply(data_points=df_train)\n",
        "L_test = applier.apply(data_points=df_test)"
      ],
      "execution_count": 0,
      "outputs": []
    },
    {
      "cell_type": "markdown",
      "metadata": {
        "id": "De_CLPAseRZR",
        "colab_type": "text"
      },
      "source": [
        "By using Snorkel's LFAnalysis utility, we were able to report the following summary statistics for multiple LFs at once:\n",
        "\n",
        "- Polarity: The set of unique labels this labelling function outputs\n",
        "- Coverage: The percentage of the dataset the labelling function labels\n",
        "- Overlaps: The percentage of the dataset where this labelling functions and at least one other labelling functions label\n",
        "- Conflicts: The percentage of the dataset where this labelling function and at least one other labelling function label and disagree (Snorkel.org, 2020).\n",
        "\n",
        "These scores helped us decide which combination of labelling functions to keep in order to get a higher accuracy score."
      ]
    },
    {
      "cell_type": "code",
      "metadata": {
        "id": "Lv8mp5ScHg5_",
        "colab_type": "code",
        "outputId": "a48a2c2d-1193-4c7c-c99e-2ff401541e4f",
        "colab": {
          "base_uri": "https://localhost:8080/",
          "height": 204
        }
      },
      "source": [
        "LFAnalysis(L=L_train, lfs=labelingfunctions).lf_summary()"
      ],
      "execution_count": 0,
      "outputs": [
        {
          "output_type": "execute_result",
          "data": {
            "text/html": [
              "<div>\n",
              "<style scoped>\n",
              "    .dataframe tbody tr th:only-of-type {\n",
              "        vertical-align: middle;\n",
              "    }\n",
              "\n",
              "    .dataframe tbody tr th {\n",
              "        vertical-align: top;\n",
              "    }\n",
              "\n",
              "    .dataframe thead th {\n",
              "        text-align: right;\n",
              "    }\n",
              "</style>\n",
              "<table border=\"1\" class=\"dataframe\">\n",
              "  <thead>\n",
              "    <tr style=\"text-align: right;\">\n",
              "      <th></th>\n",
              "      <th>j</th>\n",
              "      <th>Polarity</th>\n",
              "      <th>Coverage</th>\n",
              "      <th>Overlaps</th>\n",
              "      <th>Conflicts</th>\n",
              "    </tr>\n",
              "  </thead>\n",
              "  <tbody>\n",
              "    <tr>\n",
              "      <th>review_NEGATIVE</th>\n",
              "      <td>0</td>\n",
              "      <td>[0]</td>\n",
              "      <td>0.176574</td>\n",
              "      <td>0.176574</td>\n",
              "      <td>0.175571</td>\n",
              "    </tr>\n",
              "    <tr>\n",
              "      <th>review_NEUTRAL</th>\n",
              "      <td>1</td>\n",
              "      <td>[2]</td>\n",
              "      <td>0.164535</td>\n",
              "      <td>0.164535</td>\n",
              "      <td>0.156759</td>\n",
              "    </tr>\n",
              "    <tr>\n",
              "      <th>review_POSITIVE</th>\n",
              "      <td>2</td>\n",
              "      <td>[1]</td>\n",
              "      <td>0.603210</td>\n",
              "      <td>0.603210</td>\n",
              "      <td>0.223476</td>\n",
              "    </tr>\n",
              "    <tr>\n",
              "      <th>textblob_polarity</th>\n",
              "      <td>3</td>\n",
              "      <td>[0, 1, 2]</td>\n",
              "      <td>1.000000</td>\n",
              "      <td>0.947580</td>\n",
              "      <td>0.419363</td>\n",
              "    </tr>\n",
              "    <tr>\n",
              "      <th>pos_string_length</th>\n",
              "      <td>4</td>\n",
              "      <td>[1]</td>\n",
              "      <td>0.697015</td>\n",
              "      <td>0.697015</td>\n",
              "      <td>0.252571</td>\n",
              "    </tr>\n",
              "  </tbody>\n",
              "</table>\n",
              "</div>"
            ],
            "text/plain": [
              "                   j   Polarity  Coverage  Overlaps  Conflicts\n",
              "review_NEGATIVE    0        [0]  0.176574  0.176574   0.175571\n",
              "review_NEUTRAL     1        [2]  0.164535  0.164535   0.156759\n",
              "review_POSITIVE    2        [1]  0.603210  0.603210   0.223476\n",
              "textblob_polarity  3  [0, 1, 2]  1.000000  0.947580   0.419363\n",
              "pos_string_length  4        [1]  0.697015  0.697015   0.252571"
            ]
          },
          "metadata": {
            "tags": []
          },
          "execution_count": 138
        }
      ]
    },
    {
      "cell_type": "markdown",
      "metadata": {
        "id": "csfsxhwk9aba",
        "colab_type": "text"
      },
      "source": [
        "Based on multiple trials, we discovered the labels which bring the most information, have good coverage, whilst having a fairly low conflict. \n",
        "Therefore, “review_NEGATIVE” was the only one removed as it was not providing good coverage. Furthermore, it brought significant conflict which subsequently hindered the performance of the overall model."
      ]
    },
    {
      "cell_type": "markdown",
      "metadata": {
        "id": "pOELBz7e-aZk",
        "colab_type": "text"
      },
      "source": [
        "Now, our aim is to adapt the labels into a single probabilistic  label per data point. The majority voting per data point (Snorkel.readthedocs.io, 2020) will be used as a baseline."
      ]
    },
    {
      "cell_type": "code",
      "metadata": {
        "id": "x-l8twzoHphb",
        "colab_type": "code",
        "colab": {}
      },
      "source": [
        "majority_model = MajorityLabelVoter(cardinality=5)\n",
        "preds_train = majority_model.predict(L=L_train)"
      ],
      "execution_count": 0,
      "outputs": []
    },
    {
      "cell_type": "markdown",
      "metadata": {
        "id": "q6jF7a1i-dZu",
        "colab_type": "text"
      },
      "source": [
        "The following LabelModel combines the outputs of the labelling functions. This single set of labels will be used to train a classifier."
      ]
    },
    {
      "cell_type": "code",
      "metadata": {
        "id": "OBqdihSx0Ds1",
        "colab_type": "code",
        "colab": {}
      },
      "source": [
        "label_model = LabelModel(cardinality=5, verbose=True)\n",
        "label_model.fit(L_train=L_train, n_epochs=500, log_freq=100, seed=123)"
      ],
      "execution_count": 0,
      "outputs": []
    },
    {
      "cell_type": "code",
      "metadata": {
        "id": "maGGXyYj0Mx6",
        "colab_type": "code",
        "outputId": "27c67bdc-28e6-4165-f56f-b807ac0c445b",
        "colab": {
          "base_uri": "https://localhost:8080/",
          "height": 51
        }
      },
      "source": [
        "majority_acc = majority_model.score(L=L_test, Y=Y_test, tie_break_policy=\"random\")[\n",
        "    \"accuracy\"\n",
        "]\n",
        "print(f\"{'Majority Vote Accuracy:':<25} {majority_acc * 100:.1f}%\")\n",
        "\n",
        "label_model_acc = label_model.score(L=L_test, Y=Y_test, tie_break_policy=\"random\")[\n",
        "    \"accuracy\"\n",
        "]\n",
        "print(f\"{'Label Model Accuracy:':<25} {label_model_acc * 100:.1f}%\")"
      ],
      "execution_count": 0,
      "outputs": [
        {
          "output_type": "stream",
          "text": [
            "Majority Vote Accuracy:   80.8%\n",
            "Label Model Accuracy:     66.1%\n"
          ],
          "name": "stdout"
        }
      ]
    },
    {
      "cell_type": "markdown",
      "metadata": {
        "id": "h1Qv343z-oZD",
        "colab_type": "text"
      },
      "source": [
        "The following histogram shows the confidence level our model that has that each data point has the right label - positive/negative/neutral. The most uncertain ponts will have their labels to 0.5."
      ]
    },
    {
      "cell_type": "code",
      "metadata": {
        "id": "9-_HLHWChXGi",
        "colab_type": "code",
        "colab": {}
      },
      "source": [
        "def plot_probabilities_histogram(Y):\n",
        "    plt.hist(Y, bins=10)\n",
        "    plt.xlabel(\"TBC\")\n",
        "    plt.ylabel(\"Number of data points\")\n",
        "    plt.show()\n",
        "\n",
        "\n",
        "probs_train = label_model.predict_proba(L=L_train)\n",
        "# plot_probabilities_histogram(probs_train[:, POSITIVE])\n",
        "# plot_probabilities_histogram(probs_train[:, NEGATIVE])\n",
        "# plot_probabilities_histogram(probs_train[:, NEUTRAL])"
      ],
      "execution_count": 0,
      "outputs": []
    },
    {
      "cell_type": "markdown",
      "metadata": {
        "id": "dngMfFd_-vV2",
        "colab_type": "text"
      },
      "source": [
        "Then, we must convert the DataFrame to Pandas to get the following code working and to prepare for training the classifier."
      ]
    },
    {
      "cell_type": "code",
      "metadata": {
        "id": "wO_b3h1e0XAv",
        "colab_type": "code",
        "colab": {}
      },
      "source": [
        "# Convert the df_train to Pandas to get the code below working and to prep for training the model\n",
        "\n",
        "df_train = df_train.toDF()\n",
        "df_train = df_train.toPandas()\n",
        "\n",
        "df_test = df_test.toDF()\n",
        "df_test = df_test.toPandas()\n",
        "\n",
        "df_train_filtered, probs_train_filtered = filter_unlabeled_dataframe(X=df_train, y=probs_train, L=L_train)"
      ],
      "execution_count": 0,
      "outputs": []
    },
    {
      "cell_type": "markdown",
      "metadata": {
        "id": "VZ1mtfoir_8K",
        "colab_type": "text"
      },
      "source": [
        "# 8. Training a Classifier"
      ]
    },
    {
      "cell_type": "markdown",
      "metadata": {
        "id": "bG1_uDdd-23T",
        "colab_type": "text"
      },
      "source": [
        "Finally, we are to train a classfier to obtain the accuracy score of the combination of models(Spark.apache.org, 2020)."
      ]
    },
    {
      "cell_type": "code",
      "metadata": {
        "id": "QsKe8mulpdmi",
        "colab_type": "code",
        "colab": {}
      },
      "source": [
        "from pyspark.mllib.classification import NaiveBayes, NaiveBayesModel\n",
        "from pyspark.mllib.util import MLUtils\n",
        "# print(df_train)"
      ],
      "execution_count": 0,
      "outputs": []
    },
    {
      "cell_type": "markdown",
      "metadata": {
        "id": "71hs5FfH-_hr",
        "colab_type": "text"
      },
      "source": [
        "Through the \"probs_to_preds\" method, we can change each label distribution with the label of the class that has the maximum level of probability."
      ]
    },
    {
      "cell_type": "code",
      "metadata": {
        "id": "wpAcTd8UkwJB",
        "colab_type": "code",
        "colab": {}
      },
      "source": [
        "# use a simple “bag of n-grams” feature representation\n",
        "vectorizer = CountVectorizer(ngram_range=(1, 5))\n",
        "X_train = vectorizer.fit_transform(df_train_filtered.reviews_text.tolist())\n",
        "X_test = vectorizer.transform(df_test.reviews_text.tolist())"
      ],
      "execution_count": 0,
      "outputs": []
    },
    {
      "cell_type": "code",
      "metadata": {
        "id": "69v-1Tu0mBUK",
        "colab_type": "code",
        "colab": {}
      },
      "source": [
        "preds_train_filtered = probs_to_preds(probs=probs_train_filtered)"
      ],
      "execution_count": 0,
      "outputs": []
    },
    {
      "cell_type": "markdown",
      "metadata": {
        "id": "WiBZS0IP_Elr",
        "colab_type": "text"
      },
      "source": [
        "Then we can easily use these labels to train a classifier."
      ]
    },
    {
      "cell_type": "code",
      "metadata": {
        "id": "wMZW4b4TmMYK",
        "colab_type": "code",
        "outputId": "724f9101-6494-45f6-c416-4ef43b887396",
        "colab": {
          "base_uri": "https://localhost:8080/",
          "height": 34
        }
      },
      "source": [
        "from sklearn.naive_bayes import MultinomialNB\n",
        "sklearn_model = MultinomialNB()\n",
        "sklearn_model.fit(X=X_train, y=preds_train_filtered)"
      ],
      "execution_count": 0,
      "outputs": [
        {
          "output_type": "execute_result",
          "data": {
            "text/plain": [
              "MultinomialNB(alpha=1.0, class_prior=None, fit_prior=True)"
            ]
          },
          "metadata": {
            "tags": []
          },
          "execution_count": 147
        }
      ]
    },
    {
      "cell_type": "code",
      "metadata": {
        "id": "QyUnaPo-l-aW",
        "colab_type": "code",
        "outputId": "62bea05b-bb84-4227-c4ea-53c070347025",
        "colab": {
          "base_uri": "https://localhost:8080/",
          "height": 34
        }
      },
      "source": [
        "print(f\"Test Accuracy: {sklearn_model.score(X=X_test, y=Y_test) * 100:.1f}%\")"
      ],
      "execution_count": 0,
      "outputs": [
        {
          "output_type": "stream",
          "text": [
            "Test Accuracy: 86.4%\n"
          ],
          "name": "stdout"
        }
      ]
    },
    {
      "cell_type": "markdown",
      "metadata": {
        "id": "YwQ1dhCN_MMK",
        "colab_type": "text"
      },
      "source": [
        "We observe an increase in the accuracy score compared to the above LabelModel. That is because:\n",
        "\n",
        "- the discriminative model generalizes beyond the labels of the labeling functions;\n",
        "- creates accurate predictions on all data points (while the LabelModel creates accurate predictions on only the data points covered by labeling functions).\n",
        "\n",
        "We are to utilize a label model to pass the domain knowledge encoded in our labelling functions to the discriminative model so that we would be able to generalize beyond the noisy labelling heuristics."
      ]
    },
    {
      "cell_type": "markdown",
      "metadata": {
        "id": "p41EL9cuSTFd",
        "colab_type": "text"
      },
      "source": [
        "# 9. Summary and Conclusions"
      ]
    },
    {
      "cell_type": "markdown",
      "metadata": {
        "id": "-eSZ6eay_TzN",
        "colab_type": "text"
      },
      "source": [
        "The scope of the project was to create a weak labelling model which can identify positive, negative and neutral review ratings of a dataset containing Amazon products. \n",
        "\n",
        "Throughout the project a combination of Panda and Pyspark libraries were used. Pandas were leveraged primarily for data exploration, whereas PySpark was primarily used for data processing, assuring high performance also if future scaling is ever needed. \n",
        "\n",
        "From the Exploratory data analysis, we identified the most frequent words used in different categories. We also found that more positive reviews tend to be shorter than negative reviews. These insights together with our intuition were further used when creating the labelling functions. Additionally, we also made use of TextBlob function to create another function based on the overall sentiment analysis of a review. \n",
        "\n",
        "Next, LabelModel was used to programmatically learn to combine our labelling functions' outputs into strong probabilistic labels. We ran different combinations of labelling functions and evaluated them based on their coverage, overlap and conflicts. We kept the functions that provided with the most information, therefore had good coverage, moderately overlapping and which do not raise too much conflict wit the other functions; their combination would give the highest accuracy score.\n",
        "\n",
        "Finally, we trained a classifier to test our model's accuracy score on the test set. This proved that a classifier trained with weak supervision can exceed a method based on only labelling functions as it's able to generalize beyond the noisy labelling heuristics.\n",
        "\n",
        "As a recommendation, one can use such a model when aiming to quickly understand the sentiment of the audience when a rating scale is not available. For instance, Amazon could apply such a model to evaluate their customers' feedback on other platforms different than Amazon, which contians only text and no rating. \n"
      ]
    },
    {
      "cell_type": "markdown",
      "metadata": {
        "id": "dEngBulQ-WDd",
        "colab_type": "text"
      },
      "source": [
        "# 10. Limitations"
      ]
    },
    {
      "cell_type": "markdown",
      "metadata": {
        "id": "p-YrEy-k-gQn",
        "colab_type": "text"
      },
      "source": [
        "Considering all findings above, one should not disconsider the limitations of such a labelling model:\n",
        "\n",
        "<b> Class imbalance </b>\n",
        "\n",
        "The model is as good as the data it got feed in and trained on. Therefore, we must be wary about significant class imbalance the labelling model was built on. Over 70% of the dataset contains good reviews, which might raise further concerns regarding overfitting the positive. Therefore, the use case of this model should be very thought carefully, and the model might need readjustments when the data is balanced differently.\n",
        "\n",
        "<b>Labelling functions </b>\n",
        "\n",
        "We could argue the effectiveness of the labelling functions, as they are based on both limited analysis and intuition. One must be aware that words frequency analysis was conducted only on adjectives, and not on any verbs, prepositions, negations etc. Therefore, it is not surprising that some words (e.g. “great”) appear in more than one tier, as the actual context could vary; it could be in a negative context. Therefore, although a lot of the words show up in multiple tiers, we used our intuition when including them in the right labelling functions. Therefore, as for further improvement, multiple words categories could be considered too, such as negations or hatespeach. \n",
        "\n",
        "Additionally, the thresholds of the number of words which could differentiate positive from negative reviews was chosen in relation with the exploratory analysis. The intuition behind is that happier customers might leave shorter reviews, whereas unhappier customers might explain their feedback in more details. Nevertheless, the (25, 40) thresholds were chosen fairly intuitively, based on which intervals would contain more true information while trading off the overlapping information.  \n",
        "\n",
        "<b>Model selection </b>\n",
        "\n",
        "Because the labelling model deals with three labels – Positive, Negative and Neutral – the problem we aim to represent, evaluate and optimise is multinomial. Therefore, for multinomial classification problem, we chose to train a Naïve Bayes model. This generative model runs on the assumption that all features are independent and equally important, which is a strong belief on our dataset.\n",
        "\n",
        "<b>Data source file:</b> \n",
        "\n",
        "Because the data comes from a CSV file. when we try to read it directly into RDD, some columns misplaced due to the bugs that in the fourth column. rdd.map function views the comma within fourth column as a cell separator, but there is no comma in the first row. Thus, the column is misplaced from the fourth column. However, pandas seems more advanced in the comma detection, therefore we decided to load it correctly into this, despite our attempt to have all data processing into PySpark for potentially future scalability. Therefore, the data gets first loaded into pandas, then converted into RDD.\n",
        "\n",
        "\n"
      ]
    },
    {
      "cell_type": "markdown",
      "metadata": {
        "id": "4X7cCEotSbVw",
        "colab_type": "text"
      },
      "source": [
        "# 10. References"
      ]
    },
    {
      "cell_type": "markdown",
      "metadata": {
        "id": "19OJ2XMusf-k",
        "colab_type": "text"
      },
      "source": [
        "A Data Analyst. 2020. Building A Word Count Application In Spark - A Data Analyst. [online] Available at: <https://adataanalyst.com/spark/building-word-count-application-spark/> [Accessed 8 March 2020].\n",
        "\n",
        "Dataquest. 2020. Classify Text Using Spacy – Dataquest. [online] Available at: <https://www.dataquest.io/blog/tutorial-text-classification-in-python-using-spacy/> [Accessed 9 March 2020].\n",
        "\n",
        "Data.world. 2020. Consumer Reviews Of Amazon Products - Dataset By Datafiniti. [online] Available at: <https://data.world/datafiniti/consumer-reviews-of-amazon-products> [Accessed 12 March 2020].\n",
        "\n",
        "GitHub. 2020. Snorkel-Team/Snorkel-Tutorials. [online] Available at: <https://github.com/snorkel-team/snorkel-tutorials/blob/master/spam/01_spam_tutorial.ipynb> [Accessed 6 March 2020].\n",
        "\n",
        "Medium. 2020a. Natural Language Processing In Apache Spark Using NLTK (Part 2/2). [online] Available at: <https://towardsdatascience.com/natural-language-processing-in-apache-spark-using-nltk-part-2-2-5550b85f3340> [Accessed 8 March 2020].\n",
        "\n",
        "Medium. 2020b. Machine Learning With Pyspark And Mllib — Solving A Binary Classification Problem. [online] Available at: <https://towardsdatascience.com/machine-learning-with-pyspark-and-mllib-solving-a-binary-classification-problem-96396065d2aa> [Accessed 8 March 2020].\n",
        "\n",
        "Nltk.org. 2020. Nltk.Sentiment.Vader — NLTK 3.5B1 Documentation. [online] Available at: <https://www.nltk.org/_modules/nltk/sentiment/vader.html> [Accessed 8 March 2020].\n",
        "\n",
        "python, W. and S, R., 2020. Wordcloud From Data Frame With Frequency Python. [online] Stack Overflow. Available at: <https://stackoverflow.com/questions/38465478/wordcloud-from-data-frame-with-frequency-python> [Accessed 8 March 2020].\n",
        "\n",
        "Snorkel.org. 2020. Intro To Labeling Functions. [online] Available at: <https://www.snorkel.org/use-cases/01-spam-tutorial> [Accessed 4 March 2020].\n",
        "\n",
        "Snorkel.readthedocs.io. 2020. Snorkel Labeling Package — Snorkel 0.9.3 Documentation. [online] Available at: <https://snorkel.readthedocs.io/en/v0.9.3/packages/labeling.html> [Accessed 11 March 2020].\n",
        "\n",
        "Spark.apache.org. 2020. Naive Bayes - RDD-Based API - Spark 2.2.0 Documentation. [online] Available at: <https://spark.apache.org/docs/2.2.0/mllib-naive-bayes.html> [Accessed 11 March 2020].\n",
        "\n",
        "Textblob.readthedocs.io. 2020. Tutorial: Building A Text Classification System — Textblob 0.15.2 Documentation. [online] Available at: <https://textblob.readthedocs.io/en/dev/classifiers.html#classifying-text> [Accessed 11 March 2020]."
      ]
    },
    {
      "cell_type": "markdown",
      "metadata": {
        "id": "PeKc-pPbSFc6",
        "colab_type": "text"
      },
      "source": [
        "# 11. Resources"
      ]
    },
    {
      "cell_type": "markdown",
      "metadata": {
        "id": "K786WR3aSNzD",
        "colab_type": "text"
      },
      "source": [
        "<b>Jira Borad:</b>\n",
        "\n",
        "http://csjira2.cs.ucl.ac.uk:8080/secure/RapidBoard.jspa?rapidView=320&view=detail&selectedIssue=DETEAMB-32\n",
        "\n",
        "<b>GitHub Repository: </b>\n",
        "\n",
        "https://github.com/ioanabuze/DE_Group_Project_2020.git"
      ]
    },
    {
      "cell_type": "code",
      "metadata": {
        "id": "rPGZEL2NSSZd",
        "colab_type": "code",
        "colab": {}
      },
      "source": [
        ""
      ],
      "execution_count": 0,
      "outputs": []
    }
  ]
}